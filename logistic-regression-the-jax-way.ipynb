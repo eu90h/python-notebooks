{
 "cells": [
  {
   "cell_type": "markdown",
   "id": "aee72440",
   "metadata": {
    "papermill": {
     "duration": 0.011448,
     "end_time": "2023-09-01T21:17:16.813422",
     "exception": false,
     "start_time": "2023-09-01T21:17:16.801974",
     "status": "completed"
    },
    "tags": []
   },
   "source": [
    "## Logistic Regression the JAX Way"
   ]
  },
  {
   "cell_type": "code",
   "execution_count": 1,
   "id": "c37bd41d",
   "metadata": {
    "execution": {
     "iopub.execute_input": "2023-09-01T21:17:16.836972Z",
     "iopub.status.busy": "2023-09-01T21:17:16.836142Z",
     "iopub.status.idle": "2023-09-01T21:17:19.098444Z",
     "shell.execute_reply": "2023-09-01T21:17:19.096954Z"
    },
    "papermill": {
     "duration": 2.277929,
     "end_time": "2023-09-01T21:17:19.101784",
     "exception": false,
     "start_time": "2023-09-01T21:17:16.823855",
     "status": "completed"
    },
    "tags": []
   },
   "outputs": [],
   "source": [
    "import pandas as pd\n",
    "import jax\n",
    "import jax.numpy as jnp\n",
    "from collections import namedtuple"
   ]
  },
  {
   "cell_type": "markdown",
   "id": "82df04dc",
   "metadata": {
    "papermill": {
     "duration": 0.011189,
     "end_time": "2023-09-01T21:17:19.123967",
     "exception": false,
     "start_time": "2023-09-01T21:17:19.112778",
     "status": "completed"
    },
    "tags": []
   },
   "source": [
    "The goal of this notebook is to demonstrate how to do logistic regression with the JAX library. I'm sure there are other, better ways to do this, but this is a good start. For this example, let's use the Titanic dataset found on Kaggle."
   ]
  },
  {
   "cell_type": "code",
   "execution_count": 2,
   "id": "029c11da",
   "metadata": {
    "execution": {
     "iopub.execute_input": "2023-09-01T21:17:19.148392Z",
     "iopub.status.busy": "2023-09-01T21:17:19.147703Z",
     "iopub.status.idle": "2023-09-01T21:17:19.840101Z",
     "shell.execute_reply": "2023-09-01T21:17:19.838373Z"
    },
    "papermill": {
     "duration": 0.708456,
     "end_time": "2023-09-01T21:17:19.843683",
     "exception": false,
     "start_time": "2023-09-01T21:17:19.135227",
     "status": "completed"
    },
    "tags": []
   },
   "outputs": [],
   "source": [
    "test_data = pd.read_csv(\"/kaggle/input/titanic/test.csv\")\n",
    "train_data = pd.read_csv(\"/kaggle/input/titanic/train.csv\")\n",
    "\n",
    "pclasses = jnp.array(train_data['Pclass']).reshape((-1, 1))\n",
    "survived = jnp.array(train_data['Survived']).reshape((-1, 1))"
   ]
  },
  {
   "cell_type": "markdown",
   "id": "1465e409",
   "metadata": {
    "papermill": {
     "duration": 0.01026,
     "end_time": "2023-09-01T21:17:19.864672",
     "exception": false,
     "start_time": "2023-09-01T21:17:19.854412",
     "status": "completed"
    },
    "tags": []
   },
   "source": [
    "Our logistic regression model requires two parameters, the weight $w$ and the bias $b$. We will regress over a single feature: passenger class number."
   ]
  },
  {
   "cell_type": "code",
   "execution_count": 3,
   "id": "8c82e282",
   "metadata": {
    "execution": {
     "iopub.execute_input": "2023-09-01T21:17:19.887907Z",
     "iopub.status.busy": "2023-09-01T21:17:19.887186Z",
     "iopub.status.idle": "2023-09-01T21:17:19.892629Z",
     "shell.execute_reply": "2023-09-01T21:17:19.891480Z"
    },
    "papermill": {
     "duration": 0.020455,
     "end_time": "2023-09-01T21:17:19.895234",
     "exception": false,
     "start_time": "2023-09-01T21:17:19.874779",
     "status": "completed"
    },
    "tags": []
   },
   "outputs": [],
   "source": [
    "LogisticRegressionParams = namedtuple('LogisticRegressionParams', 'w b')"
   ]
  },
  {
   "cell_type": "markdown",
   "id": "c426a7e9",
   "metadata": {
    "papermill": {
     "duration": 0.009897,
     "end_time": "2023-09-01T21:17:19.915784",
     "exception": false,
     "start_time": "2023-09-01T21:17:19.905887",
     "status": "completed"
    },
    "tags": []
   },
   "source": [
    "First we define the `predict` function. It takes the model parameters `params` and some regressors `x`, and uses them to create a single prediction. This particular model computes $f(x\\cdot{w} + b)$, where $f(z) = \\frac{1}{1+e^{-z}}$ is a logistic function."
   ]
  },
  {
   "cell_type": "code",
   "execution_count": 4,
   "id": "b11b972b",
   "metadata": {
    "execution": {
     "iopub.execute_input": "2023-09-01T21:17:19.938691Z",
     "iopub.status.busy": "2023-09-01T21:17:19.938190Z",
     "iopub.status.idle": "2023-09-01T21:17:19.945255Z",
     "shell.execute_reply": "2023-09-01T21:17:19.943764Z"
    },
    "papermill": {
     "duration": 0.021786,
     "end_time": "2023-09-01T21:17:19.947992",
     "exception": false,
     "start_time": "2023-09-01T21:17:19.926206",
     "status": "completed"
    },
    "tags": []
   },
   "outputs": [],
   "source": [
    "@jax.jit\n",
    "def sigmoid_predict(params: LogisticRegressionParams, x: jnp.array) -> jnp.array:\n",
    "    z = x.dot(params.w) + params.b\n",
    "    return jax.nn.sigmoid(z)"
   ]
  },
  {
   "cell_type": "markdown",
   "id": "8b7ddc32",
   "metadata": {
    "papermill": {
     "duration": 0.010032,
     "end_time": "2023-09-01T21:17:19.968371",
     "exception": false,
     "start_time": "2023-09-01T21:17:19.958339",
     "status": "completed"
    },
    "tags": []
   },
   "source": [
    "Another model, presented below, uses the `softmax` function to determine a probability distribution over the two possible states, $0$ (dead) and $1$ (living). Specifically, the value $${z} = {w}{x} + {b}$$ is computed. In our case, this leaves us with a two-dimensional vector which is fed to the softmax function, mapping $(u,v)$ to $(\\frac{\\exp{u}}{\\exp{u} +\\exp{v}}, \\frac{\\exp{v}}{\\exp{u} +\\exp{v}})$.\n",
    "\n",
    "Observe the `@jax.jit` decorator. This tells JAX to just-in-time compile our prediction function. Not all functions can be jitted, see [this](https://jax.readthedocs.io/en/latest/jax-101/02-jitting.html#why-can-t-we-just-jit-everything) for more."
   ]
  },
  {
   "cell_type": "code",
   "execution_count": 5,
   "id": "eda02649",
   "metadata": {
    "execution": {
     "iopub.execute_input": "2023-09-01T21:17:19.990957Z",
     "iopub.status.busy": "2023-09-01T21:17:19.990463Z",
     "iopub.status.idle": "2023-09-01T21:17:19.996866Z",
     "shell.execute_reply": "2023-09-01T21:17:19.995687Z"
    },
    "papermill": {
     "duration": 0.020821,
     "end_time": "2023-09-01T21:17:19.999281",
     "exception": false,
     "start_time": "2023-09-01T21:17:19.978460",
     "status": "completed"
    },
    "tags": []
   },
   "outputs": [],
   "source": [
    "@jax.jit\n",
    "def softmax_predict(params: LogisticRegressionParams, x: jnp.array) -> jnp.array:\n",
    "    z = params.w.transpose() @ x + params.b\n",
    "    return jax.nn.softmax(z)"
   ]
  },
  {
   "cell_type": "markdown",
   "id": "73eddf2d",
   "metadata": {
    "papermill": {
     "duration": 0.010142,
     "end_time": "2023-09-01T21:17:20.019820",
     "exception": false,
     "start_time": "2023-09-01T21:17:20.009678",
     "status": "completed"
    },
    "tags": []
   },
   "source": [
    "Below we use `jax.vmap` to vectorize the prediction functions, allowing them to take entire batches of data as input."
   ]
  },
  {
   "cell_type": "code",
   "execution_count": 6,
   "id": "c991ae87",
   "metadata": {
    "execution": {
     "iopub.execute_input": "2023-09-01T21:17:20.043892Z",
     "iopub.status.busy": "2023-09-01T21:17:20.042654Z",
     "iopub.status.idle": "2023-09-01T21:17:20.048378Z",
     "shell.execute_reply": "2023-09-01T21:17:20.047401Z"
    },
    "papermill": {
     "duration": 0.020694,
     "end_time": "2023-09-01T21:17:20.051262",
     "exception": false,
     "start_time": "2023-09-01T21:17:20.030568",
     "status": "completed"
    },
    "tags": []
   },
   "outputs": [],
   "source": [
    "sigmoid_vpredict = jax.vmap(sigmoid_predict,(None, 0))\n",
    "softmax_vpredict = jax.vmap(softmax_predict,(None, 0))"
   ]
  },
  {
   "cell_type": "markdown",
   "id": "25b033ea",
   "metadata": {
    "papermill": {
     "duration": 0.010146,
     "end_time": "2023-09-01T21:17:20.071820",
     "exception": false,
     "start_time": "2023-09-01T21:17:20.061674",
     "status": "completed"
    },
    "tags": []
   },
   "source": [
    "When we train the sigmoid model, we'll use the cross-entropy loss function. This can be thought of as an analogue of \"distance\" for probability distributions, so our goal is to make the prediction distribution (our model's output) as close as possible to the empirical distribution."
   ]
  },
  {
   "cell_type": "code",
   "execution_count": 7,
   "id": "774b10be",
   "metadata": {
    "execution": {
     "iopub.execute_input": "2023-09-01T21:17:20.096244Z",
     "iopub.status.busy": "2023-09-01T21:17:20.095315Z",
     "iopub.status.idle": "2023-09-01T21:17:20.103053Z",
     "shell.execute_reply": "2023-09-01T21:17:20.101856Z"
    },
    "papermill": {
     "duration": 0.024822,
     "end_time": "2023-09-01T21:17:20.106841",
     "exception": false,
     "start_time": "2023-09-01T21:17:20.082019",
     "status": "completed"
    },
    "tags": []
   },
   "outputs": [],
   "source": [
    "@jax.jit\n",
    "def crossent(params: jnp.array, features: jnp.array, labels: jnp.array) -> jnp.array:\n",
    "    predictions = sigmoid_vpredict(params, features)\n",
    "    a = labels * jnp.log(predictions)\n",
    "    b = (1.0 - labels) * jnp.log(1.0 - predictions)\n",
    "    return -jnp.mean(a + b)"
   ]
  },
  {
   "cell_type": "markdown",
   "id": "dbbd9c7b",
   "metadata": {
    "papermill": {
     "duration": 0.011599,
     "end_time": "2023-09-01T21:17:20.129543",
     "exception": false,
     "start_time": "2023-09-01T21:17:20.117944",
     "status": "completed"
    },
    "tags": []
   },
   "source": [
    "It's time to train the logistic model. This is accomplished by gradient descent. The gradient of the cross-entropy loss function is determined using `jax.grad`. The gradient over the entire training set is computed and the model parameters are updated according to the rule\n",
    "$$\n",
    "p \\leftarrow p - \\eta \\nabla{\\ell},\n",
    "$$\n",
    "where $\\eta$ is the learning rate (set here to $0.01$) and $\\ell$ is the loss function."
   ]
  },
  {
   "cell_type": "code",
   "execution_count": 8,
   "id": "a2804aeb",
   "metadata": {
    "execution": {
     "iopub.execute_input": "2023-09-01T21:17:20.154888Z",
     "iopub.status.busy": "2023-09-01T21:17:20.153973Z",
     "iopub.status.idle": "2023-09-01T21:17:24.402814Z",
     "shell.execute_reply": "2023-09-01T21:17:24.401171Z"
    },
    "papermill": {
     "duration": 4.265367,
     "end_time": "2023-09-01T21:17:24.406108",
     "exception": false,
     "start_time": "2023-09-01T21:17:20.140741",
     "status": "completed"
    },
    "tags": []
   },
   "outputs": [
    {
     "name": "stdout",
     "output_type": "stream",
     "text": [
      "2.227012\n",
      "0.7300361\n",
      "0.625376\n",
      "0.6208769\n",
      "0.620122\n",
      "0.6195703\n",
      "0.61905324\n",
      "0.61856127\n",
      "0.6180927\n",
      "0.61764634\n"
     ]
    }
   ],
   "source": [
    "learning_rate = 1e-2\n",
    "sigmoid_params = LogisticRegressionParams(jnp.array(1.0), jnp.array(1.0))\n",
    "crossent_grad_fn = jax.grad(crossent)\n",
    "\n",
    "for i in range(1_000):\n",
    "    if i % 100 == 0:\n",
    "        print(crossent(sigmoid_params, pclasses, survived))\n",
    "    grads = crossent_grad_fn(sigmoid_params, pclasses, survived)\n",
    "    sigmoid_params = LogisticRegressionParams(sigmoid_params.w - learning_rate * grads.w, sigmoid_params.b - learning_rate * grads.b)\n"
   ]
  },
  {
   "cell_type": "markdown",
   "id": "a2ffdae2",
   "metadata": {
    "papermill": {
     "duration": 0.010817,
     "end_time": "2023-09-01T21:17:24.429010",
     "exception": false,
     "start_time": "2023-09-01T21:17:24.418193",
     "status": "completed"
    },
    "tags": []
   },
   "source": [
    "Now that the model is trained, let's see how well it performs."
   ]
  },
  {
   "cell_type": "code",
   "execution_count": 9,
   "id": "f12d306a",
   "metadata": {
    "execution": {
     "iopub.execute_input": "2023-09-01T21:17:24.453621Z",
     "iopub.status.busy": "2023-09-01T21:17:24.453212Z",
     "iopub.status.idle": "2023-09-01T21:17:24.666354Z",
     "shell.execute_reply": "2023-09-01T21:17:24.664860Z"
    },
    "papermill": {
     "duration": 0.228792,
     "end_time": "2023-09-01T21:17:24.668937",
     "exception": false,
     "start_time": "2023-09-01T21:17:24.440145",
     "status": "completed"
    },
    "tags": []
   },
   "outputs": [
    {
     "name": "stdout",
     "output_type": "stream",
     "text": [
      "accuracy is 67.90%\n"
     ]
    }
   ],
   "source": [
    "preds = round(sigmoid_vpredict(sigmoid_params, pclasses))\n",
    "accuracy = 1.0 - abs(preds-survived).mean()\n",
    "print(f\"accuracy is {100.0*accuracy:.2f}%\")"
   ]
  },
  {
   "cell_type": "markdown",
   "id": "0e463a5f",
   "metadata": {
    "papermill": {
     "duration": 0.010872,
     "end_time": "2023-09-01T21:17:24.691284",
     "exception": false,
     "start_time": "2023-09-01T21:17:24.680412",
     "status": "completed"
    },
    "tags": []
   },
   "source": [
    "In this section, the softmax model is trained analogously to the sigmoid model."
   ]
  },
  {
   "cell_type": "markdown",
   "id": "60c55732",
   "metadata": {
    "papermill": {
     "duration": 0.011051,
     "end_time": "2023-09-01T21:17:24.713407",
     "exception": false,
     "start_time": "2023-09-01T21:17:24.702356",
     "status": "completed"
    },
    "tags": []
   },
   "source": [
    "When we train the softmax model, we'll use the the `nll` function, which computes the negative log-likelihood of the data as a function of `params`. That is, it computes the probability of the observed data given the model. The `take_along_axis` function is used to index the predictions, retrieving the probability of the particular occurence. Finally the mean is taken across the whole batch."
   ]
  },
  {
   "cell_type": "code",
   "execution_count": 10,
   "id": "03643672",
   "metadata": {
    "execution": {
     "iopub.execute_input": "2023-09-01T21:17:24.738280Z",
     "iopub.status.busy": "2023-09-01T21:17:24.737729Z",
     "iopub.status.idle": "2023-09-01T21:17:24.745855Z",
     "shell.execute_reply": "2023-09-01T21:17:24.744458Z"
    },
    "papermill": {
     "duration": 0.023781,
     "end_time": "2023-09-01T21:17:24.748325",
     "exception": false,
     "start_time": "2023-09-01T21:17:24.724544",
     "status": "completed"
    },
    "tags": []
   },
   "outputs": [],
   "source": [
    "@jax.jit\n",
    "def nll(params: LogisticRegressionParams, regressors: jnp.array, labels: jnp.array):\n",
    "    probs = softmax_vpredict(params, regressors)\n",
    "    log_probs = jnp.log(probs)\n",
    "    return -jnp.take_along_axis(log_probs, labels, 1).mean()"
   ]
  },
  {
   "cell_type": "code",
   "execution_count": 11,
   "id": "1d079472",
   "metadata": {
    "execution": {
     "iopub.execute_input": "2023-09-01T21:17:24.773296Z",
     "iopub.status.busy": "2023-09-01T21:17:24.772777Z",
     "iopub.status.idle": "2023-09-01T21:17:28.790654Z",
     "shell.execute_reply": "2023-09-01T21:17:28.789057Z"
    },
    "papermill": {
     "duration": 4.034279,
     "end_time": "2023-09-01T21:17:28.794155",
     "exception": false,
     "start_time": "2023-09-01T21:17:24.759876",
     "status": "completed"
    },
    "tags": []
   },
   "outputs": [
    {
     "name": "stdout",
     "output_type": "stream",
     "text": [
      "0.6931472\n",
      "0.6381312\n",
      "0.6353234\n",
      "0.63285196\n",
      "0.6306094\n",
      "0.6285747\n",
      "0.62672895\n",
      "0.6250547\n",
      "0.6235363\n",
      "0.62215906\n"
     ]
    }
   ],
   "source": [
    "learning_rate = 1e-2\n",
    "softmax_params = LogisticRegressionParams(jnp.zeros([1, 2]), jnp.zeros([2]))\n",
    "nll_grad_fn = jax.grad(nll)\n",
    "for i in range(1_000):\n",
    "    if i % 100 == 0:\n",
    "        print(nll(softmax_params, pclasses, survived))\n",
    "    grads = nll_grad_fn(softmax_params, pclasses, survived)\n",
    "    softmax_params = LogisticRegressionParams(softmax_params.w - learning_rate * grads[0], softmax_params.b - learning_rate * grads[1])"
   ]
  },
  {
   "cell_type": "markdown",
   "id": "a696c61e",
   "metadata": {
    "papermill": {
     "duration": 0.011813,
     "end_time": "2023-09-01T21:17:28.818537",
     "exception": false,
     "start_time": "2023-09-01T21:17:28.806724",
     "status": "completed"
    },
    "tags": []
   },
   "source": [
    "Now let's check the softmax model's accuracy."
   ]
  },
  {
   "cell_type": "code",
   "execution_count": 12,
   "id": "64520285",
   "metadata": {
    "execution": {
     "iopub.execute_input": "2023-09-01T21:17:28.845502Z",
     "iopub.status.busy": "2023-09-01T21:17:28.844724Z",
     "iopub.status.idle": "2023-09-01T21:17:28.961328Z",
     "shell.execute_reply": "2023-09-01T21:17:28.959698Z"
    },
    "papermill": {
     "duration": 0.133446,
     "end_time": "2023-09-01T21:17:28.963969",
     "exception": false,
     "start_time": "2023-09-01T21:17:28.830523",
     "status": "completed"
    },
    "tags": []
   },
   "outputs": [
    {
     "name": "stdout",
     "output_type": "stream",
     "text": [
      "accuracy is 67.90%\n"
     ]
    }
   ],
   "source": [
    "preds = softmax_vpredict(softmax_params, pclasses).argmax(axis=1).reshape((-1, 1))\n",
    "accuracy = 1.0 - abs(preds-survived).mean()\n",
    "print(f\"accuracy is {100.0*accuracy:.2f}%\")"
   ]
  },
  {
   "cell_type": "markdown",
   "id": "6afba3a1",
   "metadata": {
    "papermill": {
     "duration": 0.011859,
     "end_time": "2023-09-01T21:17:28.987875",
     "exception": false,
     "start_time": "2023-09-01T21:17:28.976016",
     "status": "completed"
    },
    "tags": []
   },
   "source": [
    "The predictions made by the two models are compared."
   ]
  },
  {
   "cell_type": "code",
   "execution_count": 13,
   "id": "ce78d0ec",
   "metadata": {
    "execution": {
     "iopub.execute_input": "2023-09-01T21:17:29.014430Z",
     "iopub.status.busy": "2023-09-01T21:17:29.014000Z",
     "iopub.status.idle": "2023-09-01T21:17:29.268610Z",
     "shell.execute_reply": "2023-09-01T21:17:29.267454Z"
    },
    "papermill": {
     "duration": 0.271115,
     "end_time": "2023-09-01T21:17:29.271162",
     "exception": false,
     "start_time": "2023-09-01T21:17:29.000047",
     "status": "completed"
    },
    "tags": []
   },
   "outputs": [
    {
     "data": {
      "text/html": [
       "<div>\n",
       "<style scoped>\n",
       "    .dataframe tbody tr th:only-of-type {\n",
       "        vertical-align: middle;\n",
       "    }\n",
       "\n",
       "    .dataframe tbody tr th {\n",
       "        vertical-align: top;\n",
       "    }\n",
       "\n",
       "    .dataframe thead th {\n",
       "        text-align: right;\n",
       "    }\n",
       "</style>\n",
       "<table border=\"1\" class=\"dataframe\">\n",
       "  <thead>\n",
       "    <tr style=\"text-align: right;\">\n",
       "      <th></th>\n",
       "      <th>PassengerId</th>\n",
       "      <th>Pclass</th>\n",
       "      <th>Name</th>\n",
       "      <th>Sex</th>\n",
       "      <th>Age</th>\n",
       "      <th>SibSp</th>\n",
       "      <th>Parch</th>\n",
       "      <th>Ticket</th>\n",
       "      <th>Fare</th>\n",
       "      <th>Cabin</th>\n",
       "      <th>Embarked</th>\n",
       "      <th>Survived</th>\n",
       "      <th>SurvivedSoftmax</th>\n",
       "    </tr>\n",
       "  </thead>\n",
       "  <tbody>\n",
       "    <tr>\n",
       "      <th>0</th>\n",
       "      <td>892</td>\n",
       "      <td>3</td>\n",
       "      <td>Kelly, Mr. James</td>\n",
       "      <td>male</td>\n",
       "      <td>34.5</td>\n",
       "      <td>0</td>\n",
       "      <td>0</td>\n",
       "      <td>330911</td>\n",
       "      <td>7.8292</td>\n",
       "      <td>NaN</td>\n",
       "      <td>Q</td>\n",
       "      <td>0</td>\n",
       "      <td>0</td>\n",
       "    </tr>\n",
       "    <tr>\n",
       "      <th>1</th>\n",
       "      <td>893</td>\n",
       "      <td>3</td>\n",
       "      <td>Wilkes, Mrs. James (Ellen Needs)</td>\n",
       "      <td>female</td>\n",
       "      <td>47.0</td>\n",
       "      <td>1</td>\n",
       "      <td>0</td>\n",
       "      <td>363272</td>\n",
       "      <td>7.0000</td>\n",
       "      <td>NaN</td>\n",
       "      <td>S</td>\n",
       "      <td>0</td>\n",
       "      <td>0</td>\n",
       "    </tr>\n",
       "    <tr>\n",
       "      <th>2</th>\n",
       "      <td>894</td>\n",
       "      <td>2</td>\n",
       "      <td>Myles, Mr. Thomas Francis</td>\n",
       "      <td>male</td>\n",
       "      <td>62.0</td>\n",
       "      <td>0</td>\n",
       "      <td>0</td>\n",
       "      <td>240276</td>\n",
       "      <td>9.6875</td>\n",
       "      <td>NaN</td>\n",
       "      <td>Q</td>\n",
       "      <td>0</td>\n",
       "      <td>0</td>\n",
       "    </tr>\n",
       "    <tr>\n",
       "      <th>3</th>\n",
       "      <td>895</td>\n",
       "      <td>3</td>\n",
       "      <td>Wirz, Mr. Albert</td>\n",
       "      <td>male</td>\n",
       "      <td>27.0</td>\n",
       "      <td>0</td>\n",
       "      <td>0</td>\n",
       "      <td>315154</td>\n",
       "      <td>8.6625</td>\n",
       "      <td>NaN</td>\n",
       "      <td>S</td>\n",
       "      <td>0</td>\n",
       "      <td>0</td>\n",
       "    </tr>\n",
       "    <tr>\n",
       "      <th>4</th>\n",
       "      <td>896</td>\n",
       "      <td>3</td>\n",
       "      <td>Hirvonen, Mrs. Alexander (Helga E Lindqvist)</td>\n",
       "      <td>female</td>\n",
       "      <td>22.0</td>\n",
       "      <td>1</td>\n",
       "      <td>1</td>\n",
       "      <td>3101298</td>\n",
       "      <td>12.2875</td>\n",
       "      <td>NaN</td>\n",
       "      <td>S</td>\n",
       "      <td>0</td>\n",
       "      <td>0</td>\n",
       "    </tr>\n",
       "    <tr>\n",
       "      <th>...</th>\n",
       "      <td>...</td>\n",
       "      <td>...</td>\n",
       "      <td>...</td>\n",
       "      <td>...</td>\n",
       "      <td>...</td>\n",
       "      <td>...</td>\n",
       "      <td>...</td>\n",
       "      <td>...</td>\n",
       "      <td>...</td>\n",
       "      <td>...</td>\n",
       "      <td>...</td>\n",
       "      <td>...</td>\n",
       "      <td>...</td>\n",
       "    </tr>\n",
       "    <tr>\n",
       "      <th>413</th>\n",
       "      <td>1305</td>\n",
       "      <td>3</td>\n",
       "      <td>Spector, Mr. Woolf</td>\n",
       "      <td>male</td>\n",
       "      <td>NaN</td>\n",
       "      <td>0</td>\n",
       "      <td>0</td>\n",
       "      <td>A.5. 3236</td>\n",
       "      <td>8.0500</td>\n",
       "      <td>NaN</td>\n",
       "      <td>S</td>\n",
       "      <td>0</td>\n",
       "      <td>0</td>\n",
       "    </tr>\n",
       "    <tr>\n",
       "      <th>414</th>\n",
       "      <td>1306</td>\n",
       "      <td>1</td>\n",
       "      <td>Oliva y Ocana, Dona. Fermina</td>\n",
       "      <td>female</td>\n",
       "      <td>39.0</td>\n",
       "      <td>0</td>\n",
       "      <td>0</td>\n",
       "      <td>PC 17758</td>\n",
       "      <td>108.9000</td>\n",
       "      <td>C105</td>\n",
       "      <td>C</td>\n",
       "      <td>1</td>\n",
       "      <td>1</td>\n",
       "    </tr>\n",
       "    <tr>\n",
       "      <th>415</th>\n",
       "      <td>1307</td>\n",
       "      <td>3</td>\n",
       "      <td>Saether, Mr. Simon Sivertsen</td>\n",
       "      <td>male</td>\n",
       "      <td>38.5</td>\n",
       "      <td>0</td>\n",
       "      <td>0</td>\n",
       "      <td>SOTON/O.Q. 3101262</td>\n",
       "      <td>7.2500</td>\n",
       "      <td>NaN</td>\n",
       "      <td>S</td>\n",
       "      <td>0</td>\n",
       "      <td>0</td>\n",
       "    </tr>\n",
       "    <tr>\n",
       "      <th>416</th>\n",
       "      <td>1308</td>\n",
       "      <td>3</td>\n",
       "      <td>Ware, Mr. Frederick</td>\n",
       "      <td>male</td>\n",
       "      <td>NaN</td>\n",
       "      <td>0</td>\n",
       "      <td>0</td>\n",
       "      <td>359309</td>\n",
       "      <td>8.0500</td>\n",
       "      <td>NaN</td>\n",
       "      <td>S</td>\n",
       "      <td>0</td>\n",
       "      <td>0</td>\n",
       "    </tr>\n",
       "    <tr>\n",
       "      <th>417</th>\n",
       "      <td>1309</td>\n",
       "      <td>3</td>\n",
       "      <td>Peter, Master. Michael J</td>\n",
       "      <td>male</td>\n",
       "      <td>NaN</td>\n",
       "      <td>1</td>\n",
       "      <td>1</td>\n",
       "      <td>2668</td>\n",
       "      <td>22.3583</td>\n",
       "      <td>NaN</td>\n",
       "      <td>C</td>\n",
       "      <td>0</td>\n",
       "      <td>0</td>\n",
       "    </tr>\n",
       "  </tbody>\n",
       "</table>\n",
       "<p>418 rows × 13 columns</p>\n",
       "</div>"
      ],
      "text/plain": [
       "     PassengerId  Pclass                                          Name  \\\n",
       "0            892       3                              Kelly, Mr. James   \n",
       "1            893       3              Wilkes, Mrs. James (Ellen Needs)   \n",
       "2            894       2                     Myles, Mr. Thomas Francis   \n",
       "3            895       3                              Wirz, Mr. Albert   \n",
       "4            896       3  Hirvonen, Mrs. Alexander (Helga E Lindqvist)   \n",
       "..           ...     ...                                           ...   \n",
       "413         1305       3                            Spector, Mr. Woolf   \n",
       "414         1306       1                  Oliva y Ocana, Dona. Fermina   \n",
       "415         1307       3                  Saether, Mr. Simon Sivertsen   \n",
       "416         1308       3                           Ware, Mr. Frederick   \n",
       "417         1309       3                      Peter, Master. Michael J   \n",
       "\n",
       "        Sex   Age  SibSp  Parch              Ticket      Fare Cabin Embarked  \\\n",
       "0      male  34.5      0      0              330911    7.8292   NaN        Q   \n",
       "1    female  47.0      1      0              363272    7.0000   NaN        S   \n",
       "2      male  62.0      0      0              240276    9.6875   NaN        Q   \n",
       "3      male  27.0      0      0              315154    8.6625   NaN        S   \n",
       "4    female  22.0      1      1             3101298   12.2875   NaN        S   \n",
       "..      ...   ...    ...    ...                 ...       ...   ...      ...   \n",
       "413    male   NaN      0      0           A.5. 3236    8.0500   NaN        S   \n",
       "414  female  39.0      0      0            PC 17758  108.9000  C105        C   \n",
       "415    male  38.5      0      0  SOTON/O.Q. 3101262    7.2500   NaN        S   \n",
       "416    male   NaN      0      0              359309    8.0500   NaN        S   \n",
       "417    male   NaN      1      1                2668   22.3583   NaN        C   \n",
       "\n",
       "     Survived  SurvivedSoftmax  \n",
       "0           0                0  \n",
       "1           0                0  \n",
       "2           0                0  \n",
       "3           0                0  \n",
       "4           0                0  \n",
       "..        ...              ...  \n",
       "413         0                0  \n",
       "414         1                1  \n",
       "415         0                0  \n",
       "416         0                0  \n",
       "417         0                0  \n",
       "\n",
       "[418 rows x 13 columns]"
      ]
     },
     "execution_count": 13,
     "metadata": {},
     "output_type": "execute_result"
    }
   ],
   "source": [
    "pclasses = jnp.array(test_data['Pclass']).reshape((-1, 1))\n",
    "\n",
    "test_data['Survived'] = round(sigmoid_vpredict(sigmoid_params, pclasses))\n",
    "test_data['Survived'] = test_data['Survived'].apply(lambda x: int(x))\n",
    "\n",
    "test_data['SurvivedSoftmax'] = softmax_vpredict(softmax_params, pclasses).argmax(axis=1)\n",
    "test_data['SurvivedSoftmax'] = test_data['SurvivedSoftmax'].apply(lambda x: int(x))\n",
    "\n",
    "test_data"
   ]
  },
  {
   "cell_type": "code",
   "execution_count": 14,
   "id": "07b6c1fa",
   "metadata": {
    "execution": {
     "iopub.execute_input": "2023-09-01T21:17:29.299450Z",
     "iopub.status.busy": "2023-09-01T21:17:29.298622Z",
     "iopub.status.idle": "2023-09-01T21:17:29.307593Z",
     "shell.execute_reply": "2023-09-01T21:17:29.306527Z"
    },
    "papermill": {
     "duration": 0.025837,
     "end_time": "2023-09-01T21:17:29.309801",
     "exception": false,
     "start_time": "2023-09-01T21:17:29.283964",
     "status": "completed"
    },
    "tags": []
   },
   "outputs": [
    {
     "data": {
      "text/plain": [
       "True"
      ]
     },
     "execution_count": 14,
     "metadata": {},
     "output_type": "execute_result"
    }
   ],
   "source": [
    "(test_data['Survived'] == test_data['SurvivedSoftmax']).all()"
   ]
  },
  {
   "cell_type": "markdown",
   "id": "c6a1d330",
   "metadata": {
    "papermill": {
     "duration": 0.012621,
     "end_time": "2023-09-01T21:17:29.335267",
     "exception": false,
     "start_time": "2023-09-01T21:17:29.322646",
     "status": "completed"
    },
    "tags": []
   },
   "source": [
    "This shows that the predictions are identical across models.\n",
    "\n",
    "Finally, generate predictions and save them to `/kaggle/working/submission.csv`."
   ]
  },
  {
   "cell_type": "code",
   "execution_count": 15,
   "id": "3eec2e10",
   "metadata": {
    "execution": {
     "iopub.execute_input": "2023-09-01T21:17:29.363204Z",
     "iopub.status.busy": "2023-09-01T21:17:29.362745Z",
     "iopub.status.idle": "2023-09-01T21:17:29.381361Z",
     "shell.execute_reply": "2023-09-01T21:17:29.379563Z"
    },
    "papermill": {
     "duration": 0.036033,
     "end_time": "2023-09-01T21:17:29.384329",
     "exception": false,
     "start_time": "2023-09-01T21:17:29.348296",
     "status": "completed"
    },
    "tags": []
   },
   "outputs": [],
   "source": [
    "test_data[['PassengerId', 'Survived']].set_index(\"PassengerId\").to_csv(\"/kaggle/working/submission.csv\")"
   ]
  }
 ],
 "kernelspec": {
  "display_name": "Python 3",
  "language": "python",
  "name": "python3"
 },
 "language_info": {
  "codemirror_mode": {
   "name": "ipython",
   "version": 3
  },
  "file_extension": ".py",
  "mimetype": "text/x-python",
  "name": "python",
  "nbconvert_exporter": "python",
  "pygments_lexer": "ipython3",
  "version": "3.6.4"
 },
 "metadata": {
  "kernelspec": {
   "display_name": "Python 3",
   "language": "python",
   "name": "python3"
  },
  "language_info": {
   "codemirror_mode": {
    "name": "ipython",
    "version": 3
   },
   "file_extension": ".py",
   "mimetype": "text/x-python",
   "name": "python",
   "nbconvert_exporter": "python",
   "pygments_lexer": "ipython3",
   "version": "3.10.12"
  },
  "papermill": {
   "default_parameters": {},
   "duration": 18.065021,
   "end_time": "2023-09-01T21:17:30.421810",
   "environment_variables": {},
   "exception": null,
   "input_path": "__notebook__.ipynb",
   "output_path": "__notebook__.ipynb",
   "parameters": {},
   "start_time": "2023-09-01T21:17:12.356789",
   "version": "2.4.0"
  }
 },
 "nbformat": 4,
 "nbformat_minor": 5
}
