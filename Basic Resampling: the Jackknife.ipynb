{
 "cells": [
  {
   "cell_type": "markdown",
   "metadata": {},
   "source": [
    "### Basic Resampling: the Jackknife\n",
    "The jackknife is a statistical resampling method used for bias reduction and obtaining approximate confidence intervals.\n",
    "\n",
    "Suppose we have a collection $\\{x_k\\}_{k=1}^n$ of $n$ data points and we want to compute an estimator $\\hat{\\theta}$ of some parameter $\\theta$. Rather than compute the estimator over the whole dataset, the jackknife estimate of $\\hat\\theta$ is computed multiple times over subsets formed by removing a single observation. Denote by $\\hat\\theta_k$ the estimate of $\\hat\\theta$ on the subset formed by removing observation $x_k$.\n",
    "\n",
    "The bias (or error) of the estimator is given by $b(\\hat\\theta) = \\text{E}[\\hat\\theta] - \\theta$. Notice this formula uses the unknown sought-after parameter $\\theta$. To actually determine the bias of the estimator $\\hat\\theta$, we use Quenouille's jackknife bias estimator,\n",
    "$$\n",
    "\\hat{b}(\\hat\\theta) = (n-1)(\\frac{1}{n}\\sum_{k=1}^n \\hat\\theta_k - \\hat\\theta)\n",
    "$$\n",
    "\n",
    "\n",
    "We can get the jackknife estimate of $\\theta$ by computing the mean of the $\\hat{\\theta}_k$'s and subtracting the bias:\n",
    "$$\n",
    "\\hat\\theta_{\\text{jack}} = n\\hat\\theta - (n-1)\\frac{1}{n}\\sum_{k=1}^n \\hat\\theta_k\n",
    "$$\n",
    "\n",
    "The point is that this procedure gives correct first order estimates. It can be shown (see the intro to Shao and Tu's *The Jackknife and Bootstrap*) that the error of the jackknife estimate $\\hat\\theta_{\\text{jack}}$ is given by\n",
    "$$\n",
    "b(\\hat\\theta_\\text{jack}) = -\\frac{C}{n(n-1)} + O(\\frac{1}{n^2}),\n",
    "$$\n",
    "for some constant $C$. This is less than the bias of the estimator itself,\n",
    "$$\n",
    "b(\\hat\\theta) = \\frac{c_0}{n} + \\frac{c_1}{n^2} + O(\\frac{1}{n^3}),\n",
    "$$\n",
    "for appropriate constants $c_{0,1}$.\n"
   ]
  },
  {
   "cell_type": "code",
   "execution_count": 1,
   "metadata": {},
   "outputs": [],
   "source": [
    "from typing import Any, List, Callable\n",
    "import numpy as np\n",
    "\n",
    "def ith_jackknife_sample(data: List[Any], i: int) -> List[Any]:\n",
    "    if i < 0 or i >= len(data):\n",
    "        return data\n",
    "    if i+1 < len(data):\n",
    "        return np.array(data[:i] + data[i+1:])\n",
    "    return np.array(data[:i])\n",
    "\n",
    "def jackknife_sets(data: List[Any]) -> List[List[Any]]:\n",
    "    return np.array([ith_jackknife_sample(data, i) for i in range(len(data))])\n",
    "\n",
    "def jackknife_estimate(data: List[Any], estimator: Callable[[List[Any]], float], dtype=np.float64):\n",
    "    sets = jackknife_sets(data)\n",
    "    return np.fromiter(map(estimator, sets), dtype=dtype)\n",
    "\n",
    "def jackknife_variance(data: List[Any], estimator: Callable[[List[Any]], float], dtype=np.float64):\n",
    "    N = (len(data)-1.0)/float(len(data))\n",
    "    estimates = jackknife_estimate(data, estimator, dtype=dtype)\n",
    "    return N * np.sum(np.square(estimates - np.mean(estimates)))"
   ]
  },
  {
   "cell_type": "markdown",
   "metadata": {},
   "source": [
    "Below we compute the jackknife estimate of the mean."
   ]
  },
  {
   "cell_type": "code",
   "execution_count": 2,
   "metadata": {},
   "outputs": [
    {
     "data": {
      "text/plain": [
       "(5.5, 0.9166666666666672)"
      ]
     },
     "execution_count": 2,
     "metadata": {},
     "output_type": "execute_result"
    }
   ],
   "source": [
    "data = [1,2,3,4,5,6,7,8,9,10]\n",
    "estimates = jackknife_estimate(data, np.mean)\n",
    "mu = np.mean(estimates)\n",
    "sigma = jackknife_variance(data, np.mean)\n",
    "mu, sigma"
   ]
  },
  {
   "cell_type": "markdown",
   "metadata": {},
   "source": [
    "We can also use this information to construct, e.g., a $95\\%$ confidence interval for the mean."
   ]
  },
  {
   "cell_type": "code",
   "execution_count": 3,
   "metadata": {},
   "outputs": [
    {
     "name": "stdout",
     "output_type": "stream",
     "text": [
      "the 95% confidence interval for the mean is (3.623442868797577, 7.376557131202423)\n"
     ]
    }
   ],
   "source": [
    "alpha = 1.96\n",
    "print(f\"the 95% confidence interval for the mean is {mu - alpha * np.sqrt(sigma), mu + alpha * np.sqrt(sigma)}\")"
   ]
  },
  {
   "cell_type": "markdown",
   "metadata": {},
   "source": [
    "The alpha value is readily available in statistical tables or computed from the cumulative normal distribution.\n",
    "\n",
    "For more information on the jackknife see Jun Shao and Dongsheng Tu's book *The Jackknife and Bootstrap*."
   ]
  }
 ],
 "metadata": {
  "kernelspec": {
   "display_name": ".venv",
   "language": "python",
   "name": "python3"
  },
  "language_info": {
   "codemirror_mode": {
    "name": "ipython",
    "version": 3
   },
   "file_extension": ".py",
   "mimetype": "text/x-python",
   "name": "python",
   "nbconvert_exporter": "python",
   "pygments_lexer": "ipython3",
   "version": "3.10.12"
  },
  "orig_nbformat": 4
 },
 "nbformat": 4,
 "nbformat_minor": 2
}
