{
 "cells": [
  {
   "cell_type": "markdown",
   "id": "425f240d",
   "metadata": {
    "papermill": {
     "duration": 0.012159,
     "end_time": "2023-09-01T18:04:29.595092",
     "exception": false,
     "start_time": "2023-09-01T18:04:29.582933",
     "status": "completed"
    },
    "tags": []
   },
   "source": [
    "### Shelter Animal Outcomes\n",
    "\n",
    "This competition ran from March 21 2016 to July 31 2016. We're given data collected from an animal shelter in Austin, Texas between October 1st, 2013 and March, 2016 indicated the status of an animal as it leaves the shelter. The contest description gives some background on this issue: \"every year, approximately 7.6 million companion animals end up in US shelters. Many animals are given up as unwanted by their owners, while others are picked up after getting lost or taken out of cruelty situations. Many of these animals find forever families to take them home, but just as many are not so lucky. 2.7 million dogs and cats are euthanized in the US every year.\"\n",
    "\n",
    "Our goal is to predict the outcome of an animal, given a number of features. The following outcomes are possible:  Adoption, Died, Euthanasia, Return to owner, and Transfer."
   ]
  },
  {
   "cell_type": "code",
   "execution_count": 1,
   "id": "f12744ed",
   "metadata": {
    "execution": {
     "iopub.execute_input": "2023-09-01T18:04:29.613767Z",
     "iopub.status.busy": "2023-09-01T18:04:29.613045Z",
     "iopub.status.idle": "2023-09-01T18:04:33.189686Z",
     "shell.execute_reply": "2023-09-01T18:04:33.188719Z"
    },
    "papermill": {
     "duration": 3.587522,
     "end_time": "2023-09-01T18:04:33.191961",
     "exception": false,
     "start_time": "2023-09-01T18:04:29.604439",
     "status": "completed"
    },
    "tags": []
   },
   "outputs": [
    {
     "name": "stderr",
     "output_type": "stream",
     "text": [
      "/opt/conda/lib/python3.10/site-packages/scipy/__init__.py:146: UserWarning: A NumPy version >=1.16.5 and <1.23.0 is required for this version of SciPy (detected version 1.23.5\n"
     ]
    }
   ],
   "source": [
    "import random\n",
    "import datetime\n",
    "\n",
    "import pandas as pd\n",
    "import numpy as np\n",
    "\n",
    "from plotnine import ggplot, aes, geom_histogram\n",
    "from sklearn.ensemble import RandomForestClassifier, ExtraTreesClassifier, GradientBoostingClassifier\n",
    "from sklearn.tree import DecisionTreeClassifier\n",
    "from sklearn.model_selection import cross_val_score\n",
    "from sklearn.metrics import accuracy_score, log_loss"
   ]
  },
  {
   "cell_type": "code",
   "execution_count": 2,
   "id": "70ca2f5f",
   "metadata": {
    "execution": {
     "iopub.execute_input": "2023-09-01T18:04:33.208092Z",
     "iopub.status.busy": "2023-09-01T18:04:33.207516Z",
     "iopub.status.idle": "2023-09-01T18:04:33.350989Z",
     "shell.execute_reply": "2023-09-01T18:04:33.349678Z"
    },
    "papermill": {
     "duration": 0.153547,
     "end_time": "2023-09-01T18:04:33.352945",
     "exception": false,
     "start_time": "2023-09-01T18:04:33.199398",
     "status": "completed"
    },
    "tags": []
   },
   "outputs": [
    {
     "data": {
      "text/html": [
       "<div>\n",
       "<style scoped>\n",
       "    .dataframe tbody tr th:only-of-type {\n",
       "        vertical-align: middle;\n",
       "    }\n",
       "\n",
       "    .dataframe tbody tr th {\n",
       "        vertical-align: top;\n",
       "    }\n",
       "\n",
       "    .dataframe thead th {\n",
       "        text-align: right;\n",
       "    }\n",
       "</style>\n",
       "<table border=\"1\" class=\"dataframe\">\n",
       "  <thead>\n",
       "    <tr style=\"text-align: right;\">\n",
       "      <th></th>\n",
       "      <th>AnimalID</th>\n",
       "      <th>Name</th>\n",
       "      <th>DateTime</th>\n",
       "      <th>OutcomeType</th>\n",
       "      <th>OutcomeSubtype</th>\n",
       "      <th>AnimalType</th>\n",
       "      <th>SexuponOutcome</th>\n",
       "      <th>AgeuponOutcome</th>\n",
       "      <th>Breed</th>\n",
       "      <th>Color</th>\n",
       "    </tr>\n",
       "  </thead>\n",
       "  <tbody>\n",
       "    <tr>\n",
       "      <th>0</th>\n",
       "      <td>A671945</td>\n",
       "      <td>Hambone</td>\n",
       "      <td>2014-02-12 18:22:00</td>\n",
       "      <td>Return_to_owner</td>\n",
       "      <td>NaN</td>\n",
       "      <td>Dog</td>\n",
       "      <td>Neutered Male</td>\n",
       "      <td>1 year</td>\n",
       "      <td>Shetland Sheepdog Mix</td>\n",
       "      <td>Brown/White</td>\n",
       "    </tr>\n",
       "    <tr>\n",
       "      <th>1</th>\n",
       "      <td>A656520</td>\n",
       "      <td>Emily</td>\n",
       "      <td>2013-10-13 12:44:00</td>\n",
       "      <td>Euthanasia</td>\n",
       "      <td>Suffering</td>\n",
       "      <td>Cat</td>\n",
       "      <td>Spayed Female</td>\n",
       "      <td>1 year</td>\n",
       "      <td>Domestic Shorthair Mix</td>\n",
       "      <td>Cream Tabby</td>\n",
       "    </tr>\n",
       "    <tr>\n",
       "      <th>2</th>\n",
       "      <td>A686464</td>\n",
       "      <td>Pearce</td>\n",
       "      <td>2015-01-31 12:28:00</td>\n",
       "      <td>Adoption</td>\n",
       "      <td>Foster</td>\n",
       "      <td>Dog</td>\n",
       "      <td>Neutered Male</td>\n",
       "      <td>2 years</td>\n",
       "      <td>Pit Bull Mix</td>\n",
       "      <td>Blue/White</td>\n",
       "    </tr>\n",
       "    <tr>\n",
       "      <th>3</th>\n",
       "      <td>A683430</td>\n",
       "      <td>NaN</td>\n",
       "      <td>2014-07-11 19:09:00</td>\n",
       "      <td>Transfer</td>\n",
       "      <td>Partner</td>\n",
       "      <td>Cat</td>\n",
       "      <td>Intact Male</td>\n",
       "      <td>3 weeks</td>\n",
       "      <td>Domestic Shorthair Mix</td>\n",
       "      <td>Blue Cream</td>\n",
       "    </tr>\n",
       "    <tr>\n",
       "      <th>4</th>\n",
       "      <td>A667013</td>\n",
       "      <td>NaN</td>\n",
       "      <td>2013-11-15 12:52:00</td>\n",
       "      <td>Transfer</td>\n",
       "      <td>Partner</td>\n",
       "      <td>Dog</td>\n",
       "      <td>Neutered Male</td>\n",
       "      <td>2 years</td>\n",
       "      <td>Lhasa Apso/Miniature Poodle</td>\n",
       "      <td>Tan</td>\n",
       "    </tr>\n",
       "    <tr>\n",
       "      <th>...</th>\n",
       "      <td>...</td>\n",
       "      <td>...</td>\n",
       "      <td>...</td>\n",
       "      <td>...</td>\n",
       "      <td>...</td>\n",
       "      <td>...</td>\n",
       "      <td>...</td>\n",
       "      <td>...</td>\n",
       "      <td>...</td>\n",
       "      <td>...</td>\n",
       "    </tr>\n",
       "    <tr>\n",
       "      <th>26724</th>\n",
       "      <td>A702446</td>\n",
       "      <td>NaN</td>\n",
       "      <td>2015-05-14 11:56:00</td>\n",
       "      <td>Transfer</td>\n",
       "      <td>Partner</td>\n",
       "      <td>Cat</td>\n",
       "      <td>Intact Male</td>\n",
       "      <td>1 month</td>\n",
       "      <td>Domestic Shorthair Mix</td>\n",
       "      <td>Brown Tabby/White</td>\n",
       "    </tr>\n",
       "    <tr>\n",
       "      <th>26725</th>\n",
       "      <td>A718934</td>\n",
       "      <td>NaN</td>\n",
       "      <td>2016-01-20 18:59:00</td>\n",
       "      <td>Transfer</td>\n",
       "      <td>SCRP</td>\n",
       "      <td>Cat</td>\n",
       "      <td>Spayed Female</td>\n",
       "      <td>3 months</td>\n",
       "      <td>Domestic Shorthair Mix</td>\n",
       "      <td>Brown Tabby</td>\n",
       "    </tr>\n",
       "    <tr>\n",
       "      <th>26726</th>\n",
       "      <td>A698128</td>\n",
       "      <td>Zeus</td>\n",
       "      <td>2015-03-09 13:33:00</td>\n",
       "      <td>Adoption</td>\n",
       "      <td>NaN</td>\n",
       "      <td>Dog</td>\n",
       "      <td>Neutered Male</td>\n",
       "      <td>4 years</td>\n",
       "      <td>Old English Bulldog Mix</td>\n",
       "      <td>White/Tan</td>\n",
       "    </tr>\n",
       "    <tr>\n",
       "      <th>26727</th>\n",
       "      <td>A677478</td>\n",
       "      <td>NaN</td>\n",
       "      <td>2014-04-27 12:22:00</td>\n",
       "      <td>Transfer</td>\n",
       "      <td>Partner</td>\n",
       "      <td>Cat</td>\n",
       "      <td>Intact Male</td>\n",
       "      <td>4 weeks</td>\n",
       "      <td>Domestic Shorthair Mix</td>\n",
       "      <td>Black</td>\n",
       "    </tr>\n",
       "    <tr>\n",
       "      <th>26728</th>\n",
       "      <td>A706629</td>\n",
       "      <td>NaN</td>\n",
       "      <td>2015-07-02 09:00:00</td>\n",
       "      <td>Transfer</td>\n",
       "      <td>SCRP</td>\n",
       "      <td>Cat</td>\n",
       "      <td>Intact Male</td>\n",
       "      <td>1 year</td>\n",
       "      <td>Domestic Shorthair Mix</td>\n",
       "      <td>Brown Tabby/White</td>\n",
       "    </tr>\n",
       "  </tbody>\n",
       "</table>\n",
       "<p>26729 rows × 10 columns</p>\n",
       "</div>"
      ],
      "text/plain": [
       "      AnimalID     Name             DateTime      OutcomeType OutcomeSubtype  \\\n",
       "0      A671945  Hambone  2014-02-12 18:22:00  Return_to_owner            NaN   \n",
       "1      A656520    Emily  2013-10-13 12:44:00       Euthanasia      Suffering   \n",
       "2      A686464   Pearce  2015-01-31 12:28:00         Adoption         Foster   \n",
       "3      A683430      NaN  2014-07-11 19:09:00         Transfer        Partner   \n",
       "4      A667013      NaN  2013-11-15 12:52:00         Transfer        Partner   \n",
       "...        ...      ...                  ...              ...            ...   \n",
       "26724  A702446      NaN  2015-05-14 11:56:00         Transfer        Partner   \n",
       "26725  A718934      NaN  2016-01-20 18:59:00         Transfer           SCRP   \n",
       "26726  A698128     Zeus  2015-03-09 13:33:00         Adoption            NaN   \n",
       "26727  A677478      NaN  2014-04-27 12:22:00         Transfer        Partner   \n",
       "26728  A706629      NaN  2015-07-02 09:00:00         Transfer           SCRP   \n",
       "\n",
       "      AnimalType SexuponOutcome AgeuponOutcome                        Breed  \\\n",
       "0            Dog  Neutered Male         1 year        Shetland Sheepdog Mix   \n",
       "1            Cat  Spayed Female         1 year       Domestic Shorthair Mix   \n",
       "2            Dog  Neutered Male        2 years                 Pit Bull Mix   \n",
       "3            Cat    Intact Male        3 weeks       Domestic Shorthair Mix   \n",
       "4            Dog  Neutered Male        2 years  Lhasa Apso/Miniature Poodle   \n",
       "...          ...            ...            ...                          ...   \n",
       "26724        Cat    Intact Male        1 month       Domestic Shorthair Mix   \n",
       "26725        Cat  Spayed Female       3 months       Domestic Shorthair Mix   \n",
       "26726        Dog  Neutered Male        4 years      Old English Bulldog Mix   \n",
       "26727        Cat    Intact Male        4 weeks       Domestic Shorthair Mix   \n",
       "26728        Cat    Intact Male         1 year       Domestic Shorthair Mix   \n",
       "\n",
       "                   Color  \n",
       "0            Brown/White  \n",
       "1            Cream Tabby  \n",
       "2             Blue/White  \n",
       "3             Blue Cream  \n",
       "4                    Tan  \n",
       "...                  ...  \n",
       "26724  Brown Tabby/White  \n",
       "26725        Brown Tabby  \n",
       "26726          White/Tan  \n",
       "26727              Black  \n",
       "26728  Brown Tabby/White  \n",
       "\n",
       "[26729 rows x 10 columns]"
      ]
     },
     "execution_count": 2,
     "metadata": {},
     "output_type": "execute_result"
    }
   ],
   "source": [
    "training_data = pd.read_csv('/kaggle/input/shelter-animal-outcomes/train.csv.gz')\n",
    "testing_data = pd.read_csv('/kaggle/input/shelter-animal-outcomes/test.csv.gz')\n",
    "\n",
    "training_data"
   ]
  },
  {
   "cell_type": "markdown",
   "id": "80b170d8",
   "metadata": {
    "papermill": {
     "duration": 0.00765,
     "end_time": "2023-09-01T18:04:33.368945",
     "exception": false,
     "start_time": "2023-09-01T18:04:33.361295",
     "status": "completed"
    },
    "tags": []
   },
   "source": [
    "Let's take a peek at some summary statistics."
   ]
  },
  {
   "cell_type": "code",
   "execution_count": 3,
   "id": "fb88d007",
   "metadata": {
    "execution": {
     "iopub.execute_input": "2023-09-01T18:04:33.386698Z",
     "iopub.status.busy": "2023-09-01T18:04:33.386343Z",
     "iopub.status.idle": "2023-09-01T18:04:33.451075Z",
     "shell.execute_reply": "2023-09-01T18:04:33.449602Z"
    },
    "papermill": {
     "duration": 0.07612,
     "end_time": "2023-09-01T18:04:33.453184",
     "exception": false,
     "start_time": "2023-09-01T18:04:33.377064",
     "status": "completed"
    },
    "tags": []
   },
   "outputs": [
    {
     "data": {
      "text/html": [
       "<div>\n",
       "<style scoped>\n",
       "    .dataframe tbody tr th:only-of-type {\n",
       "        vertical-align: middle;\n",
       "    }\n",
       "\n",
       "    .dataframe tbody tr th {\n",
       "        vertical-align: top;\n",
       "    }\n",
       "\n",
       "    .dataframe thead th {\n",
       "        text-align: right;\n",
       "    }\n",
       "</style>\n",
       "<table border=\"1\" class=\"dataframe\">\n",
       "  <thead>\n",
       "    <tr style=\"text-align: right;\">\n",
       "      <th></th>\n",
       "      <th>AnimalID</th>\n",
       "      <th>Name</th>\n",
       "      <th>DateTime</th>\n",
       "      <th>OutcomeType</th>\n",
       "      <th>OutcomeSubtype</th>\n",
       "      <th>AnimalType</th>\n",
       "      <th>SexuponOutcome</th>\n",
       "      <th>AgeuponOutcome</th>\n",
       "      <th>Breed</th>\n",
       "      <th>Color</th>\n",
       "    </tr>\n",
       "  </thead>\n",
       "  <tbody>\n",
       "    <tr>\n",
       "      <th>count</th>\n",
       "      <td>26729</td>\n",
       "      <td>19038</td>\n",
       "      <td>26729</td>\n",
       "      <td>26729</td>\n",
       "      <td>13117</td>\n",
       "      <td>26729</td>\n",
       "      <td>26728</td>\n",
       "      <td>26711</td>\n",
       "      <td>26729</td>\n",
       "      <td>26729</td>\n",
       "    </tr>\n",
       "    <tr>\n",
       "      <th>unique</th>\n",
       "      <td>26729</td>\n",
       "      <td>6374</td>\n",
       "      <td>22918</td>\n",
       "      <td>5</td>\n",
       "      <td>16</td>\n",
       "      <td>2</td>\n",
       "      <td>5</td>\n",
       "      <td>44</td>\n",
       "      <td>1380</td>\n",
       "      <td>366</td>\n",
       "    </tr>\n",
       "    <tr>\n",
       "      <th>top</th>\n",
       "      <td>A671945</td>\n",
       "      <td>Max</td>\n",
       "      <td>2015-08-11 00:00:00</td>\n",
       "      <td>Adoption</td>\n",
       "      <td>Partner</td>\n",
       "      <td>Dog</td>\n",
       "      <td>Neutered Male</td>\n",
       "      <td>1 year</td>\n",
       "      <td>Domestic Shorthair Mix</td>\n",
       "      <td>Black/White</td>\n",
       "    </tr>\n",
       "    <tr>\n",
       "      <th>freq</th>\n",
       "      <td>1</td>\n",
       "      <td>136</td>\n",
       "      <td>19</td>\n",
       "      <td>10769</td>\n",
       "      <td>7816</td>\n",
       "      <td>15595</td>\n",
       "      <td>9779</td>\n",
       "      <td>3969</td>\n",
       "      <td>8810</td>\n",
       "      <td>2824</td>\n",
       "    </tr>\n",
       "  </tbody>\n",
       "</table>\n",
       "</div>"
      ],
      "text/plain": [
       "       AnimalID   Name             DateTime OutcomeType OutcomeSubtype  \\\n",
       "count     26729  19038                26729       26729          13117   \n",
       "unique    26729   6374                22918           5             16   \n",
       "top     A671945    Max  2015-08-11 00:00:00    Adoption        Partner   \n",
       "freq          1    136                   19       10769           7816   \n",
       "\n",
       "       AnimalType SexuponOutcome AgeuponOutcome                   Breed  \\\n",
       "count       26729          26728          26711                   26729   \n",
       "unique          2              5             44                    1380   \n",
       "top           Dog  Neutered Male         1 year  Domestic Shorthair Mix   \n",
       "freq        15595           9779           3969                    8810   \n",
       "\n",
       "              Color  \n",
       "count         26729  \n",
       "unique          366  \n",
       "top     Black/White  \n",
       "freq           2824  "
      ]
     },
     "execution_count": 3,
     "metadata": {},
     "output_type": "execute_result"
    }
   ],
   "source": [
    "training_data.describe()"
   ]
  },
  {
   "cell_type": "markdown",
   "id": "760e1114",
   "metadata": {
    "papermill": {
     "duration": 0.007549,
     "end_time": "2023-09-01T18:04:33.468732",
     "exception": false,
     "start_time": "2023-09-01T18:04:33.461183",
     "status": "completed"
    },
    "tags": []
   },
   "source": [
    "Fortunately, the top outcome is adoption followed by transfers, and returning to their owners."
   ]
  },
  {
   "cell_type": "code",
   "execution_count": 4,
   "id": "c869bf8e",
   "metadata": {
    "execution": {
     "iopub.execute_input": "2023-09-01T18:04:33.486684Z",
     "iopub.status.busy": "2023-09-01T18:04:33.486330Z",
     "iopub.status.idle": "2023-09-01T18:04:33.909116Z",
     "shell.execute_reply": "2023-09-01T18:04:33.907912Z"
    },
    "papermill": {
     "duration": 0.435914,
     "end_time": "2023-09-01T18:04:33.912485",
     "exception": false,
     "start_time": "2023-09-01T18:04:33.476571",
     "status": "completed"
    },
    "tags": []
   },
   "outputs": [
    {
     "data": {
      "image/png": "[encoded data removed]",
      "text/plain": [
       "<Figure size 640x480 with 1 Axes>"
      ]
     },
     "metadata": {},
     "output_type": "display_data"
    },
    {
     "data": {
      "text/plain": [
       "<ggplot: (8621891216270)>"
      ]
     },
     "execution_count": 4,
     "metadata": {},
     "output_type": "execute_result"
    }
   ],
   "source": [
    "ggplot(training_data, aes(x='OutcomeType')) + geom_histogram(binwidth=0.5)"
   ]
  },
  {
   "cell_type": "markdown",
   "id": "3c04aa49",
   "metadata": {
    "papermill": {
     "duration": 0.009689,
     "end_time": "2023-09-01T18:04:33.932664",
     "exception": false,
     "start_time": "2023-09-01T18:04:33.922975",
     "status": "completed"
    },
    "tags": []
   },
   "source": [
    "Here we can see the top ten animal breeds in the shelter,"
   ]
  },
  {
   "cell_type": "code",
   "execution_count": 5,
   "id": "fd555878",
   "metadata": {
    "execution": {
     "iopub.execute_input": "2023-09-01T18:04:33.954898Z",
     "iopub.status.busy": "2023-09-01T18:04:33.954208Z",
     "iopub.status.idle": "2023-09-01T18:04:33.962559Z",
     "shell.execute_reply": "2023-09-01T18:04:33.961970Z"
    },
    "papermill": {
     "duration": 0.021788,
     "end_time": "2023-09-01T18:04:33.964519",
     "exception": false,
     "start_time": "2023-09-01T18:04:33.942731",
     "status": "completed"
    },
    "tags": []
   },
   "outputs": [
    {
     "data": {
      "text/plain": [
       "Domestic Shorthair Mix       8810\n",
       "Pit Bull Mix                 1906\n",
       "Chihuahua Shorthair Mix      1766\n",
       "Labrador Retriever Mix       1363\n",
       "Domestic Medium Hair Mix      839\n",
       "German Shepherd Mix           575\n",
       "Domestic Longhair Mix         520\n",
       "Siamese Mix                   389\n",
       "Australian Cattle Dog Mix     367\n",
       "Dachshund Mix                 318\n",
       "Name: Breed, dtype: int64"
      ]
     },
     "execution_count": 5,
     "metadata": {},
     "output_type": "execute_result"
    }
   ],
   "source": [
    "training_data.Breed.value_counts()[:10]"
   ]
  },
  {
   "cell_type": "markdown",
   "id": "b5fcea34",
   "metadata": {
    "papermill": {
     "duration": 0.008264,
     "end_time": "2023-09-01T18:04:33.981451",
     "exception": false,
     "start_time": "2023-09-01T18:04:33.973187",
     "status": "completed"
    },
    "tags": []
   },
   "source": [
    "Notice that the most frequent breeds are all \"mixes\". Next, let's check the most common colors:"
   ]
  },
  {
   "cell_type": "code",
   "execution_count": 6,
   "id": "7d1c26ac",
   "metadata": {
    "execution": {
     "iopub.execute_input": "2023-09-01T18:04:34.000234Z",
     "iopub.status.busy": "2023-09-01T18:04:33.999608Z",
     "iopub.status.idle": "2023-09-01T18:04:34.007303Z",
     "shell.execute_reply": "2023-09-01T18:04:34.006622Z"
    },
    "papermill": {
     "duration": 0.019136,
     "end_time": "2023-09-01T18:04:34.008993",
     "exception": false,
     "start_time": "2023-09-01T18:04:33.989857",
     "status": "completed"
    },
    "tags": []
   },
   "outputs": [
    {
     "data": {
      "text/plain": [
       "Black/White          2824\n",
       "Black                2292\n",
       "Brown Tabby          1635\n",
       "Brown Tabby/White     940\n",
       "White                 931\n",
       "Brown/White           884\n",
       "Orange Tabby          841\n",
       "Tan/White             773\n",
       "Tricolor              752\n",
       "Blue/White            702\n",
       "Name: Color, dtype: int64"
      ]
     },
     "execution_count": 6,
     "metadata": {},
     "output_type": "execute_result"
    }
   ],
   "source": [
    "training_data.Color.value_counts()[:10]"
   ]
  },
  {
   "cell_type": "markdown",
   "id": "8390e0fb",
   "metadata": {
    "papermill": {
     "duration": 0.008656,
     "end_time": "2023-09-01T18:04:34.026997",
     "exception": false,
     "start_time": "2023-09-01T18:04:34.018341",
     "status": "completed"
    },
    "tags": []
   },
   "source": [
    "Notice the `AgeuponOutcome` feature is a string"
   ]
  },
  {
   "cell_type": "code",
   "execution_count": 7,
   "id": "ebc38c3b",
   "metadata": {
    "execution": {
     "iopub.execute_input": "2023-09-01T18:04:34.046028Z",
     "iopub.status.busy": "2023-09-01T18:04:34.045675Z",
     "iopub.status.idle": "2023-09-01T18:04:34.055247Z",
     "shell.execute_reply": "2023-09-01T18:04:34.054476Z"
    },
    "papermill": {
     "duration": 0.021368,
     "end_time": "2023-09-01T18:04:34.057004",
     "exception": false,
     "start_time": "2023-09-01T18:04:34.035636",
     "status": "completed"
    },
    "tags": []
   },
   "outputs": [
    {
     "data": {
      "text/plain": [
       "1 year      3969\n",
       "2 years     3742\n",
       "2 months    3397\n",
       "3 years     1823\n",
       "1 month     1281\n",
       "3 months    1277\n",
       "4 years     1071\n",
       "5 years      992\n",
       "4 months     888\n",
       "6 years      670\n",
       "Name: AgeuponOutcome, dtype: int64"
      ]
     },
     "execution_count": 7,
     "metadata": {},
     "output_type": "execute_result"
    }
   ],
   "source": [
    "training_data.AgeuponOutcome.value_counts()[:10]"
   ]
  },
  {
   "cell_type": "markdown",
   "id": "7e7354d1",
   "metadata": {
    "papermill": {
     "duration": 0.008104,
     "end_time": "2023-09-01T18:04:34.073807",
     "exception": false,
     "start_time": "2023-09-01T18:04:34.065703",
     "status": "completed"
    },
    "tags": []
   },
   "source": [
    "let's change this to a numerical value."
   ]
  },
  {
   "cell_type": "code",
   "execution_count": 8,
   "id": "9a04a26a",
   "metadata": {
    "execution": {
     "iopub.execute_input": "2023-09-01T18:04:34.092734Z",
     "iopub.status.busy": "2023-09-01T18:04:34.091877Z",
     "iopub.status.idle": "2023-09-01T18:04:34.098110Z",
     "shell.execute_reply": "2023-09-01T18:04:34.097427Z"
    },
    "papermill": {
     "duration": 0.017594,
     "end_time": "2023-09-01T18:04:34.099929",
     "exception": false,
     "start_time": "2023-09-01T18:04:34.082335",
     "status": "completed"
    },
    "tags": []
   },
   "outputs": [],
   "source": [
    "def age_outcome_to_days(x):\n",
    "    if 'year' in x:\n",
    "        parts = x.split()\n",
    "        return int(parts[0]) * 365\n",
    "    elif 'weeks' in x:\n",
    "        parts = x.split()\n",
    "        return int(parts[0]) * 7\n",
    "    elif 'month' in x:\n",
    "        parts = x.split()\n",
    "        return int(parts[0]) * 30\n",
    "    elif 'days' in x:\n",
    "        parts = x.split()\n",
    "        return int(parts[0])"
   ]
  },
  {
   "cell_type": "markdown",
   "id": "6ef106d9",
   "metadata": {
    "papermill": {
     "duration": 0.008335,
     "end_time": "2023-09-01T18:04:34.117134",
     "exception": false,
     "start_time": "2023-09-01T18:04:34.108799",
     "status": "completed"
    },
    "tags": []
   },
   "source": [
    "### Data Preprocessing\n",
    "Many of our features are strings representing categories, so we need to transform them to numerical values. We'll use `sklearn.preprocessing.LabelEncoder` to accomplish this."
   ]
  },
  {
   "cell_type": "code",
   "execution_count": 9,
   "id": "aab00fa0",
   "metadata": {
    "execution": {
     "iopub.execute_input": "2023-09-01T18:04:34.135318Z",
     "iopub.status.busy": "2023-09-01T18:04:34.134549Z",
     "iopub.status.idle": "2023-09-01T18:04:34.170764Z",
     "shell.execute_reply": "2023-09-01T18:04:34.169665Z"
    },
    "papermill": {
     "duration": 0.047902,
     "end_time": "2023-09-01T18:04:34.173144",
     "exception": false,
     "start_time": "2023-09-01T18:04:34.125242",
     "status": "completed"
    },
    "tags": []
   },
   "outputs": [
    {
     "data": {
      "text/html": [
       "<style>#sk-container-id-1 {color: black;background-color: white;}#sk-container-id-1 pre{padding: 0;}#sk-container-id-1 div.sk-toggleable {background-color: white;}#sk-container-id-1 label.sk-toggleable__label {cursor: pointer;display: block;width: 100%;margin-bottom: 0;padding: 0.3em;box-sizing: border-box;text-align: center;}#sk-container-id-1 label.sk-toggleable__label-arrow:before {content: \"▸\";float: left;margin-right: 0.25em;color: #696969;}#sk-container-id-1 label.sk-toggleable__label-arrow:hover:before {color: black;}#sk-container-id-1 div.sk-estimator:hover label.sk-toggleable__label-arrow:before {color: black;}#sk-container-id-1 div.sk-toggleable__content {max-height: 0;max-width: 0;overflow: hidden;text-align: left;background-color: #f0f8ff;}#sk-container-id-1 div.sk-toggleable__content pre {margin: 0.2em;color: black;border-radius: 0.25em;background-color: #f0f8ff;}#sk-container-id-1 input.sk-toggleable__control:checked~div.sk-toggleable__content {max-height: 200px;max-width: 100%;overflow: auto;}#sk-container-id-1 input.sk-toggleable__control:checked~label.sk-toggleable__label-arrow:before {content: \"▾\";}#sk-container-id-1 div.sk-estimator input.sk-toggleable__control:checked~label.sk-toggleable__label {background-color: #d4ebff;}#sk-container-id-1 div.sk-label input.sk-toggleable__control:checked~label.sk-toggleable__label {background-color: #d4ebff;}#sk-container-id-1 input.sk-hidden--visually {border: 0;clip: rect(1px 1px 1px 1px);clip: rect(1px, 1px, 1px, 1px);height: 1px;margin: -1px;overflow: hidden;padding: 0;position: absolute;width: 1px;}#sk-container-id-1 div.sk-estimator {font-family: monospace;background-color: #f0f8ff;border: 1px dotted black;border-radius: 0.25em;box-sizing: border-box;margin-bottom: 0.5em;}#sk-container-id-1 div.sk-estimator:hover {background-color: #d4ebff;}#sk-container-id-1 div.sk-parallel-item::after {content: \"\";width: 100%;border-bottom: 1px solid gray;flex-grow: 1;}#sk-container-id-1 div.sk-label:hover label.sk-toggleable__label {background-color: #d4ebff;}#sk-container-id-1 div.sk-serial::before {content: \"\";position: absolute;border-left: 1px solid gray;box-sizing: border-box;top: 0;bottom: 0;left: 50%;z-index: 0;}#sk-container-id-1 div.sk-serial {display: flex;flex-direction: column;align-items: center;background-color: white;padding-right: 0.2em;padding-left: 0.2em;position: relative;}#sk-container-id-1 div.sk-item {position: relative;z-index: 1;}#sk-container-id-1 div.sk-parallel {display: flex;align-items: stretch;justify-content: center;background-color: white;position: relative;}#sk-container-id-1 div.sk-item::before, #sk-container-id-1 div.sk-parallel-item::before {content: \"\";position: absolute;border-left: 1px solid gray;box-sizing: border-box;top: 0;bottom: 0;left: 50%;z-index: -1;}#sk-container-id-1 div.sk-parallel-item {display: flex;flex-direction: column;z-index: 1;position: relative;background-color: white;}#sk-container-id-1 div.sk-parallel-item:first-child::after {align-self: flex-end;width: 50%;}#sk-container-id-1 div.sk-parallel-item:last-child::after {align-self: flex-start;width: 50%;}#sk-container-id-1 div.sk-parallel-item:only-child::after {width: 0;}#sk-container-id-1 div.sk-dashed-wrapped {border: 1px dashed gray;margin: 0 0.4em 0.5em 0.4em;box-sizing: border-box;padding-bottom: 0.4em;background-color: white;}#sk-container-id-1 div.sk-label label {font-family: monospace;font-weight: bold;display: inline-block;line-height: 1.2em;}#sk-container-id-1 div.sk-label-container {text-align: center;}#sk-container-id-1 div.sk-container {/* jupyter's `normalize.less` sets `[hidden] { display: none; }` but bootstrap.min.css set `[hidden] { display: none !important; }` so we also need the `!important` here to be able to override the default hidden behavior on the sphinx rendered scikit-learn.org. See: https://github.com/scikit-learn/scikit-learn/issues/21755 */display: inline-block !important;position: relative;}#sk-container-id-1 div.sk-text-repr-fallback {display: none;}</style><div id=\"sk-container-id-1\" class=\"sk-top-container\"><div class=\"sk-text-repr-fallback\"><pre>LabelEncoder()</pre><b>In a Jupyter environment, please rerun this cell to show the HTML representation or trust the notebook. <br />On GitHub, the HTML representation is unable to render, please try loading this page with nbviewer.org.</b></div><div class=\"sk-container\" hidden><div class=\"sk-item\"><div class=\"sk-estimator sk-toggleable\"><input class=\"sk-toggleable__control sk-hidden--visually\" id=\"sk-estimator-id-1\" type=\"checkbox\" checked><label for=\"sk-estimator-id-1\" class=\"sk-toggleable__label sk-toggleable__label-arrow\">LabelEncoder</label><div class=\"sk-toggleable__content\"><pre>LabelEncoder()</pre></div></div></div></div></div>"
      ],
      "text/plain": [
       "LabelEncoder()"
      ]
     },
     "execution_count": 9,
     "metadata": {},
     "output_type": "execute_result"
    }
   ],
   "source": [
    "from sklearn import preprocessing\n",
    "\n",
    "encoder_training_data = pd.concat([training_data, testing_data])\n",
    "\n",
    "age_upon_outcome_encoder = preprocessing.LabelEncoder()\n",
    "age_upon_outcome_encoder.fit(encoder_training_data.AgeuponOutcome)\n",
    "\n",
    "color_encoder = preprocessing.LabelEncoder()\n",
    "color_encoder.fit(encoder_training_data.Color)\n",
    "\n",
    "breed_encoder = preprocessing.LabelEncoder()\n",
    "breed_encoder.fit(encoder_training_data.Breed)\n",
    "\n",
    "animal_type_encoder = preprocessing.LabelEncoder()\n",
    "animal_type_encoder.fit(encoder_training_data.AnimalType)\n",
    "\n",
    "sex_upon_outcome_encoder = preprocessing.LabelEncoder()\n",
    "sex_upon_outcome_encoder.fit(encoder_training_data.SexuponOutcome)\n",
    "\n",
    "outcome_type_encoder = preprocessing.LabelEncoder()\n",
    "outcome_type_encoder.fit(encoder_training_data.OutcomeType)\n",
    "\n",
    "outcome_subtype_encoder = preprocessing.LabelEncoder()\n",
    "outcome_subtype_encoder.fit(encoder_training_data.OutcomeSubtype)\n",
    "\n",
    "name_encoder = preprocessing.LabelEncoder()\n",
    "name_encoder.fit(encoder_training_data.Name)"
   ]
  },
  {
   "cell_type": "markdown",
   "id": "4d3a629b",
   "metadata": {
    "papermill": {
     "duration": 0.008083,
     "end_time": "2023-09-01T18:04:34.190019",
     "exception": false,
     "start_time": "2023-09-01T18:04:34.181936",
     "status": "completed"
    },
    "tags": []
   },
   "source": [
    "Now its time to encode the data, making it suitable for training. Additionally, we'll create a new feature `is_mix`, as well as splitting the date into year, month, and day to hopefully capture any possible date effects (maybe people adopt more around Christmas?)"
   ]
  },
  {
   "cell_type": "code",
   "execution_count": 10,
   "id": "dd5ebbe4",
   "metadata": {
    "execution": {
     "iopub.execute_input": "2023-09-01T18:04:34.208446Z",
     "iopub.status.busy": "2023-09-01T18:04:34.208083Z",
     "iopub.status.idle": "2023-09-01T18:04:35.039332Z",
     "shell.execute_reply": "2023-09-01T18:04:35.038206Z"
    },
    "papermill": {
     "duration": 0.843261,
     "end_time": "2023-09-01T18:04:35.041779",
     "exception": false,
     "start_time": "2023-09-01T18:04:34.198518",
     "status": "completed"
    },
    "tags": []
   },
   "outputs": [
    {
     "data": {
      "text/html": [
       "<div>\n",
       "<style scoped>\n",
       "    .dataframe tbody tr th:only-of-type {\n",
       "        vertical-align: middle;\n",
       "    }\n",
       "\n",
       "    .dataframe tbody tr th {\n",
       "        vertical-align: top;\n",
       "    }\n",
       "\n",
       "    .dataframe thead th {\n",
       "        text-align: right;\n",
       "    }\n",
       "</style>\n",
       "<table border=\"1\" class=\"dataframe\">\n",
       "  <thead>\n",
       "    <tr style=\"text-align: right;\">\n",
       "      <th></th>\n",
       "      <th>AnimalID</th>\n",
       "      <th>Name</th>\n",
       "      <th>DateTime</th>\n",
       "      <th>OutcomeType</th>\n",
       "      <th>OutcomeSubtype</th>\n",
       "      <th>AnimalType</th>\n",
       "      <th>SexuponOutcome</th>\n",
       "      <th>AgeuponOutcome</th>\n",
       "      <th>Breed</th>\n",
       "      <th>Color</th>\n",
       "      <th>is_mix</th>\n",
       "      <th>year</th>\n",
       "      <th>month</th>\n",
       "      <th>day</th>\n",
       "    </tr>\n",
       "  </thead>\n",
       "  <tbody>\n",
       "    <tr>\n",
       "      <th>0</th>\n",
       "      <td>A671945</td>\n",
       "      <td>2910</td>\n",
       "      <td>2014-02-12 18:22:00</td>\n",
       "      <td>3</td>\n",
       "      <td>16</td>\n",
       "      <td>1</td>\n",
       "      <td>2</td>\n",
       "      <td>5</td>\n",
       "      <td>1482</td>\n",
       "      <td>146</td>\n",
       "      <td>1</td>\n",
       "      <td>2014</td>\n",
       "      <td>2</td>\n",
       "      <td>12</td>\n",
       "    </tr>\n",
       "    <tr>\n",
       "      <th>1</th>\n",
       "      <td>A656520</td>\n",
       "      <td>2265</td>\n",
       "      <td>2013-10-13 12:44:00</td>\n",
       "      <td>2</td>\n",
       "      <td>15</td>\n",
       "      <td>0</td>\n",
       "      <td>3</td>\n",
       "      <td>5</td>\n",
       "      <td>775</td>\n",
       "      <td>184</td>\n",
       "      <td>1</td>\n",
       "      <td>2013</td>\n",
       "      <td>10</td>\n",
       "      <td>13</td>\n",
       "    </tr>\n",
       "    <tr>\n",
       "      <th>2</th>\n",
       "      <td>A686464</td>\n",
       "      <td>5500</td>\n",
       "      <td>2015-01-31 12:28:00</td>\n",
       "      <td>0</td>\n",
       "      <td>6</td>\n",
       "      <td>1</td>\n",
       "      <td>2</td>\n",
       "      <td>21</td>\n",
       "      <td>1293</td>\n",
       "      <td>97</td>\n",
       "      <td>1</td>\n",
       "      <td>2015</td>\n",
       "      <td>1</td>\n",
       "      <td>31</td>\n",
       "    </tr>\n",
       "    <tr>\n",
       "      <th>3</th>\n",
       "      <td>A683430</td>\n",
       "      <td>7968</td>\n",
       "      <td>2014-07-11 19:09:00</td>\n",
       "      <td>4</td>\n",
       "      <td>12</td>\n",
       "      <td>0</td>\n",
       "      <td>1</td>\n",
       "      <td>26</td>\n",
       "      <td>775</td>\n",
       "      <td>47</td>\n",
       "      <td>1</td>\n",
       "      <td>2014</td>\n",
       "      <td>7</td>\n",
       "      <td>11</td>\n",
       "    </tr>\n",
       "    <tr>\n",
       "      <th>4</th>\n",
       "      <td>A667013</td>\n",
       "      <td>7968</td>\n",
       "      <td>2013-11-15 12:52:00</td>\n",
       "      <td>4</td>\n",
       "      <td>12</td>\n",
       "      <td>1</td>\n",
       "      <td>2</td>\n",
       "      <td>21</td>\n",
       "      <td>1101</td>\n",
       "      <td>311</td>\n",
       "      <td>0</td>\n",
       "      <td>2013</td>\n",
       "      <td>11</td>\n",
       "      <td>15</td>\n",
       "    </tr>\n",
       "    <tr>\n",
       "      <th>...</th>\n",
       "      <td>...</td>\n",
       "      <td>...</td>\n",
       "      <td>...</td>\n",
       "      <td>...</td>\n",
       "      <td>...</td>\n",
       "      <td>...</td>\n",
       "      <td>...</td>\n",
       "      <td>...</td>\n",
       "      <td>...</td>\n",
       "      <td>...</td>\n",
       "      <td>...</td>\n",
       "      <td>...</td>\n",
       "      <td>...</td>\n",
       "      <td>...</td>\n",
       "    </tr>\n",
       "    <tr>\n",
       "      <th>26724</th>\n",
       "      <td>A702446</td>\n",
       "      <td>7968</td>\n",
       "      <td>2015-05-14 11:56:00</td>\n",
       "      <td>4</td>\n",
       "      <td>12</td>\n",
       "      <td>0</td>\n",
       "      <td>1</td>\n",
       "      <td>2</td>\n",
       "      <td>775</td>\n",
       "      <td>125</td>\n",
       "      <td>1</td>\n",
       "      <td>2015</td>\n",
       "      <td>5</td>\n",
       "      <td>14</td>\n",
       "    </tr>\n",
       "    <tr>\n",
       "      <th>26725</th>\n",
       "      <td>A718934</td>\n",
       "      <td>7968</td>\n",
       "      <td>2016-01-20 18:59:00</td>\n",
       "      <td>4</td>\n",
       "      <td>14</td>\n",
       "      <td>0</td>\n",
       "      <td>3</td>\n",
       "      <td>25</td>\n",
       "      <td>775</td>\n",
       "      <td>117</td>\n",
       "      <td>1</td>\n",
       "      <td>2016</td>\n",
       "      <td>1</td>\n",
       "      <td>20</td>\n",
       "    </tr>\n",
       "    <tr>\n",
       "      <th>26726</th>\n",
       "      <td>A698128</td>\n",
       "      <td>7916</td>\n",
       "      <td>2015-03-09 13:33:00</td>\n",
       "      <td>0</td>\n",
       "      <td>16</td>\n",
       "      <td>1</td>\n",
       "      <td>2</td>\n",
       "      <td>31</td>\n",
       "      <td>1239</td>\n",
       "      <td>396</td>\n",
       "      <td>1</td>\n",
       "      <td>2015</td>\n",
       "      <td>3</td>\n",
       "      <td>9</td>\n",
       "    </tr>\n",
       "    <tr>\n",
       "      <th>26727</th>\n",
       "      <td>A677478</td>\n",
       "      <td>7968</td>\n",
       "      <td>2014-04-27 12:22:00</td>\n",
       "      <td>4</td>\n",
       "      <td>12</td>\n",
       "      <td>0</td>\n",
       "      <td>1</td>\n",
       "      <td>30</td>\n",
       "      <td>775</td>\n",
       "      <td>6</td>\n",
       "      <td>1</td>\n",
       "      <td>2014</td>\n",
       "      <td>4</td>\n",
       "      <td>27</td>\n",
       "    </tr>\n",
       "    <tr>\n",
       "      <th>26728</th>\n",
       "      <td>A706629</td>\n",
       "      <td>7968</td>\n",
       "      <td>2015-07-02 09:00:00</td>\n",
       "      <td>4</td>\n",
       "      <td>14</td>\n",
       "      <td>0</td>\n",
       "      <td>1</td>\n",
       "      <td>5</td>\n",
       "      <td>775</td>\n",
       "      <td>125</td>\n",
       "      <td>1</td>\n",
       "      <td>2015</td>\n",
       "      <td>7</td>\n",
       "      <td>2</td>\n",
       "    </tr>\n",
       "  </tbody>\n",
       "</table>\n",
       "<p>26729 rows × 14 columns</p>\n",
       "</div>"
      ],
      "text/plain": [
       "      AnimalID  Name             DateTime  OutcomeType  OutcomeSubtype  \\\n",
       "0      A671945  2910  2014-02-12 18:22:00            3              16   \n",
       "1      A656520  2265  2013-10-13 12:44:00            2              15   \n",
       "2      A686464  5500  2015-01-31 12:28:00            0               6   \n",
       "3      A683430  7968  2014-07-11 19:09:00            4              12   \n",
       "4      A667013  7968  2013-11-15 12:52:00            4              12   \n",
       "...        ...   ...                  ...          ...             ...   \n",
       "26724  A702446  7968  2015-05-14 11:56:00            4              12   \n",
       "26725  A718934  7968  2016-01-20 18:59:00            4              14   \n",
       "26726  A698128  7916  2015-03-09 13:33:00            0              16   \n",
       "26727  A677478  7968  2014-04-27 12:22:00            4              12   \n",
       "26728  A706629  7968  2015-07-02 09:00:00            4              14   \n",
       "\n",
       "       AnimalType  SexuponOutcome  AgeuponOutcome  Breed  Color  is_mix  year  \\\n",
       "0               1               2               5   1482    146       1  2014   \n",
       "1               0               3               5    775    184       1  2013   \n",
       "2               1               2              21   1293     97       1  2015   \n",
       "3               0               1              26    775     47       1  2014   \n",
       "4               1               2              21   1101    311       0  2013   \n",
       "...           ...             ...             ...    ...    ...     ...   ...   \n",
       "26724           0               1               2    775    125       1  2015   \n",
       "26725           0               3              25    775    117       1  2016   \n",
       "26726           1               2              31   1239    396       1  2015   \n",
       "26727           0               1              30    775      6       1  2014   \n",
       "26728           0               1               5    775    125       1  2015   \n",
       "\n",
       "       month  day  \n",
       "0          2   12  \n",
       "1         10   13  \n",
       "2          1   31  \n",
       "3          7   11  \n",
       "4         11   15  \n",
       "...      ...  ...  \n",
       "26724      5   14  \n",
       "26725      1   20  \n",
       "26726      3    9  \n",
       "26727      4   27  \n",
       "26728      7    2  \n",
       "\n",
       "[26729 rows x 14 columns]"
      ]
     },
     "execution_count": 10,
     "metadata": {},
     "output_type": "execute_result"
    }
   ],
   "source": [
    "training_data.AgeuponOutcome = age_upon_outcome_encoder.transform(training_data.AgeuponOutcome)\n",
    "training_data.Color = color_encoder.transform(training_data.Color)\n",
    "training_data['is_mix'] = training_data.Breed.apply(lambda x: 1 if 'Mix' in x else 0)\n",
    "training_data.Breed = breed_encoder.transform(training_data.Breed)\n",
    "training_data.AnimalType = animal_type_encoder.transform(training_data.AnimalType)\n",
    "training_data.SexuponOutcome = sex_upon_outcome_encoder.transform(training_data.SexuponOutcome)\n",
    "training_data.OutcomeType = outcome_type_encoder.transform(training_data.OutcomeType)\n",
    "training_data.OutcomeSubtype = outcome_subtype_encoder.transform(training_data.OutcomeSubtype)\n",
    "training_data.Name = name_encoder.transform(training_data.Name)\n",
    "training_data['year'] = training_data.DateTime.apply(lambda x: datetime.datetime.strptime(x, \"%Y-%m-%d %H:%M:%S\").year)\n",
    "training_data['month'] = training_data.DateTime.apply(lambda x: datetime.datetime.strptime(x, \"%Y-%m-%d %H:%M:%S\").month)\n",
    "training_data['day'] = training_data.DateTime.apply(lambda x: datetime.datetime.strptime(x, \"%Y-%m-%d %H:%M:%S\").day)\n",
    "\n",
    "training_data"
   ]
  },
  {
   "cell_type": "code",
   "execution_count": 11,
   "id": "db848488",
   "metadata": {
    "execution": {
     "iopub.execute_input": "2023-09-01T18:04:35.062836Z",
     "iopub.status.busy": "2023-09-01T18:04:35.062509Z",
     "iopub.status.idle": "2023-09-01T18:04:35.069743Z",
     "shell.execute_reply": "2023-09-01T18:04:35.068973Z"
    },
    "papermill": {
     "duration": 0.020745,
     "end_time": "2023-09-01T18:04:35.071990",
     "exception": false,
     "start_time": "2023-09-01T18:04:35.051245",
     "status": "completed"
    },
    "tags": []
   },
   "outputs": [],
   "source": [
    "X = training_data.drop(['DateTime', 'OutcomeType', 'OutcomeSubtype', 'AnimalID'], axis=1)\n",
    "y = training_data.OutcomeType"
   ]
  },
  {
   "cell_type": "code",
   "execution_count": 12,
   "id": "5323d2a3",
   "metadata": {
    "execution": {
     "iopub.execute_input": "2023-09-01T18:04:35.092423Z",
     "iopub.status.busy": "2023-09-01T18:04:35.092079Z",
     "iopub.status.idle": "2023-09-01T18:04:37.014167Z",
     "shell.execute_reply": "2023-09-01T18:04:37.013478Z"
    },
    "papermill": {
     "duration": 1.934244,
     "end_time": "2023-09-01T18:04:37.015872",
     "exception": false,
     "start_time": "2023-09-01T18:04:35.081628",
     "status": "completed"
    },
    "tags": []
   },
   "outputs": [
    {
     "data": {
      "text/plain": [
       "0.5992740557359619"
      ]
     },
     "execution_count": 12,
     "metadata": {},
     "output_type": "execute_result"
    }
   ],
   "source": [
    "clf = RandomForestClassifier(n_estimators=10, max_depth=None, min_samples_split=2, random_state=0)\n",
    "scores = cross_val_score(clf, X, y, cv=5)\n",
    "scores.mean()"
   ]
  },
  {
   "cell_type": "markdown",
   "id": "942fd2cf",
   "metadata": {
    "papermill": {
     "duration": 0.009369,
     "end_time": "2023-09-01T18:04:37.034701",
     "exception": false,
     "start_time": "2023-09-01T18:04:37.025332",
     "status": "completed"
    },
    "tags": []
   },
   "source": [
    "Now let's try a couple of different models so that we have something to this result compare to."
   ]
  },
  {
   "cell_type": "code",
   "execution_count": 13,
   "id": "3e7cb48e",
   "metadata": {
    "execution": {
     "iopub.execute_input": "2023-09-01T18:04:37.055155Z",
     "iopub.status.busy": "2023-09-01T18:04:37.054749Z",
     "iopub.status.idle": "2023-09-01T18:04:38.593741Z",
     "shell.execute_reply": "2023-09-01T18:04:38.592819Z"
    },
    "papermill": {
     "duration": 1.551559,
     "end_time": "2023-09-01T18:04:38.595693",
     "exception": false,
     "start_time": "2023-09-01T18:04:37.044134",
     "status": "completed"
    },
    "tags": []
   },
   "outputs": [
    {
     "data": {
      "text/plain": [
       "0.5953086209774703"
      ]
     },
     "execution_count": 13,
     "metadata": {},
     "output_type": "execute_result"
    }
   ],
   "source": [
    "clf = ExtraTreesClassifier(n_estimators=10, max_depth=None, min_samples_split=2, random_state=0)\n",
    "scores = cross_val_score(clf, X, y, cv=5)\n",
    "scores.mean()"
   ]
  },
  {
   "cell_type": "code",
   "execution_count": 14,
   "id": "73fe68cf",
   "metadata": {
    "execution": {
     "iopub.execute_input": "2023-09-01T18:04:38.615805Z",
     "iopub.status.busy": "2023-09-01T18:04:38.615464Z",
     "iopub.status.idle": "2023-09-01T18:04:39.360187Z",
     "shell.execute_reply": "2023-09-01T18:04:39.358381Z"
    },
    "papermill": {
     "duration": 0.757328,
     "end_time": "2023-09-01T18:04:39.362363",
     "exception": false,
     "start_time": "2023-09-01T18:04:38.605035",
     "status": "completed"
    },
    "tags": []
   },
   "outputs": [
    {
     "data": {
      "text/plain": [
       "0.5413970491737875"
      ]
     },
     "execution_count": 14,
     "metadata": {},
     "output_type": "execute_result"
    }
   ],
   "source": [
    "clf =  DecisionTreeClassifier(max_depth=None, min_samples_split=2, random_state=0)\n",
    "scores = cross_val_score(clf, X, y, cv=5)\n",
    "scores.mean()"
   ]
  },
  {
   "cell_type": "code",
   "execution_count": 15,
   "id": "ff9e6da4",
   "metadata": {
    "execution": {
     "iopub.execute_input": "2023-09-01T18:04:39.382829Z",
     "iopub.status.busy": "2023-09-01T18:04:39.382471Z",
     "iopub.status.idle": "2023-09-01T18:04:46.108179Z",
     "shell.execute_reply": "2023-09-01T18:04:46.107036Z"
    },
    "papermill": {
     "duration": 6.738877,
     "end_time": "2023-09-01T18:04:46.110785",
     "exception": false,
     "start_time": "2023-09-01T18:04:39.371908",
     "status": "completed"
    },
    "tags": []
   },
   "outputs": [
    {
     "data": {
      "text/plain": [
       "0.607766883399354"
      ]
     },
     "execution_count": 15,
     "metadata": {},
     "output_type": "execute_result"
    }
   ],
   "source": [
    "clf = GradientBoostingClassifier(n_estimators=10)\n",
    "scores = cross_val_score(clf, X, y, cv=5)\n",
    "scores.mean()"
   ]
  },
  {
   "cell_type": "markdown",
   "id": "62e3ba25",
   "metadata": {
    "papermill": {
     "duration": 0.010147,
     "end_time": "2023-09-01T18:04:46.130818",
     "exception": false,
     "start_time": "2023-09-01T18:04:46.120671",
     "status": "completed"
    },
    "tags": []
   },
   "source": [
    "It appears that a gradient boosted classifier performs best on the training set. Let's use that classifier but increase the number of estimators."
   ]
  },
  {
   "cell_type": "code",
   "execution_count": 16,
   "id": "9cd5b2a7",
   "metadata": {
    "execution": {
     "iopub.execute_input": "2023-09-01T18:04:46.151691Z",
     "iopub.status.busy": "2023-09-01T18:04:46.151370Z",
     "iopub.status.idle": "2023-09-01T18:05:52.686794Z",
     "shell.execute_reply": "2023-09-01T18:05:52.685516Z"
    },
    "papermill": {
     "duration": 66.557045,
     "end_time": "2023-09-01T18:05:52.697820",
     "exception": false,
     "start_time": "2023-09-01T18:04:46.140775",
     "status": "completed"
    },
    "tags": []
   },
   "outputs": [
    {
     "data": {
      "text/plain": [
       "0.6412136750521533"
      ]
     },
     "execution_count": 16,
     "metadata": {},
     "output_type": "execute_result"
    }
   ],
   "source": [
    "clf = GradientBoostingClassifier(n_estimators=100)\n",
    "scores = cross_val_score(clf, X, y, cv=5)\n",
    "scores.mean()"
   ]
  },
  {
   "cell_type": "code",
   "execution_count": 17,
   "id": "bcbaacc6",
   "metadata": {
    "execution": {
     "iopub.execute_input": "2023-09-01T18:05:52.718886Z",
     "iopub.status.busy": "2023-09-01T18:05:52.718539Z",
     "iopub.status.idle": "2023-09-01T18:06:09.086372Z",
     "shell.execute_reply": "2023-09-01T18:06:09.085098Z"
    },
    "papermill": {
     "duration": 16.381181,
     "end_time": "2023-09-01T18:06:09.088627",
     "exception": false,
     "start_time": "2023-09-01T18:05:52.707446",
     "status": "completed"
    },
    "tags": []
   },
   "outputs": [
    {
     "data": {
      "text/plain": [
       "array([0.10626813, 0.09781817, 0.54476138, 0.19971507, 0.02643113,\n",
       "       0.00675372, 0.00129998, 0.00237428, 0.00778559, 0.00679255])"
      ]
     },
     "execution_count": 17,
     "metadata": {},
     "output_type": "execute_result"
    }
   ],
   "source": [
    "clf.fit(X, y)\n",
    "clf.feature_importances_"
   ]
  },
  {
   "cell_type": "markdown",
   "id": "adee34ce",
   "metadata": {
    "papermill": {
     "duration": 0.009184,
     "end_time": "2023-09-01T18:06:09.107610",
     "exception": false,
     "start_time": "2023-09-01T18:06:09.098426",
     "status": "completed"
    },
    "tags": []
   },
   "source": [
    "The most important features are `SexuponOutcome` and `AnimalType`."
   ]
  },
  {
   "cell_type": "markdown",
   "id": "a5f29d69",
   "metadata": {
    "papermill": {
     "duration": 0.009029,
     "end_time": "2023-09-01T18:06:09.126030",
     "exception": false,
     "start_time": "2023-09-01T18:06:09.117001",
     "status": "completed"
    },
    "tags": []
   },
   "source": [
    "It's time to prepare the testing data and make our predictions."
   ]
  },
  {
   "cell_type": "code",
   "execution_count": 18,
   "id": "0aa8c85a",
   "metadata": {
    "execution": {
     "iopub.execute_input": "2023-09-01T18:06:09.146877Z",
     "iopub.status.busy": "2023-09-01T18:06:09.145980Z",
     "iopub.status.idle": "2023-09-01T18:06:09.529519Z",
     "shell.execute_reply": "2023-09-01T18:06:09.528184Z"
    },
    "papermill": {
     "duration": 0.397196,
     "end_time": "2023-09-01T18:06:09.532670",
     "exception": false,
     "start_time": "2023-09-01T18:06:09.135474",
     "status": "completed"
    },
    "tags": []
   },
   "outputs": [
    {
     "data": {
      "text/html": [
       "<div>\n",
       "<style scoped>\n",
       "    .dataframe tbody tr th:only-of-type {\n",
       "        vertical-align: middle;\n",
       "    }\n",
       "\n",
       "    .dataframe tbody tr th {\n",
       "        vertical-align: top;\n",
       "    }\n",
       "\n",
       "    .dataframe thead th {\n",
       "        text-align: right;\n",
       "    }\n",
       "</style>\n",
       "<table border=\"1\" class=\"dataframe\">\n",
       "  <thead>\n",
       "    <tr style=\"text-align: right;\">\n",
       "      <th></th>\n",
       "      <th>ID</th>\n",
       "      <th>Name</th>\n",
       "      <th>DateTime</th>\n",
       "      <th>AnimalType</th>\n",
       "      <th>SexuponOutcome</th>\n",
       "      <th>AgeuponOutcome</th>\n",
       "      <th>Breed</th>\n",
       "      <th>Color</th>\n",
       "      <th>is_mix</th>\n",
       "      <th>year</th>\n",
       "      <th>month</th>\n",
       "      <th>day</th>\n",
       "    </tr>\n",
       "  </thead>\n",
       "  <tbody>\n",
       "    <tr>\n",
       "      <th>0</th>\n",
       "      <td>1</td>\n",
       "      <td>6995</td>\n",
       "      <td>2015-10-12 12:15:00</td>\n",
       "      <td>1</td>\n",
       "      <td>0</td>\n",
       "      <td>6</td>\n",
       "      <td>1023</td>\n",
       "      <td>283</td>\n",
       "      <td>1</td>\n",
       "      <td>2015</td>\n",
       "      <td>10</td>\n",
       "      <td>12</td>\n",
       "    </tr>\n",
       "    <tr>\n",
       "      <th>1</th>\n",
       "      <td>2</td>\n",
       "      <td>1368</td>\n",
       "      <td>2014-07-26 17:59:00</td>\n",
       "      <td>1</td>\n",
       "      <td>3</td>\n",
       "      <td>21</td>\n",
       "      <td>875</td>\n",
       "      <td>40</td>\n",
       "      <td>0</td>\n",
       "      <td>2014</td>\n",
       "      <td>7</td>\n",
       "      <td>26</td>\n",
       "    </tr>\n",
       "    <tr>\n",
       "      <th>2</th>\n",
       "      <td>3</td>\n",
       "      <td>2871</td>\n",
       "      <td>2016-01-13 12:20:00</td>\n",
       "      <td>0</td>\n",
       "      <td>2</td>\n",
       "      <td>5</td>\n",
       "      <td>775</td>\n",
       "      <td>117</td>\n",
       "      <td>1</td>\n",
       "      <td>2016</td>\n",
       "      <td>1</td>\n",
       "      <td>13</td>\n",
       "    </tr>\n",
       "    <tr>\n",
       "      <th>3</th>\n",
       "      <td>4</td>\n",
       "      <td>5728</td>\n",
       "      <td>2013-12-28 18:12:00</td>\n",
       "      <td>1</td>\n",
       "      <td>1</td>\n",
       "      <td>29</td>\n",
       "      <td>658</td>\n",
       "      <td>346</td>\n",
       "      <td>1</td>\n",
       "      <td>2013</td>\n",
       "      <td>12</td>\n",
       "      <td>28</td>\n",
       "    </tr>\n",
       "    <tr>\n",
       "      <th>4</th>\n",
       "      <td>5</td>\n",
       "      <td>6679</td>\n",
       "      <td>2015-09-24 17:59:00</td>\n",
       "      <td>1</td>\n",
       "      <td>2</td>\n",
       "      <td>21</td>\n",
       "      <td>1165</td>\n",
       "      <td>359</td>\n",
       "      <td>1</td>\n",
       "      <td>2015</td>\n",
       "      <td>9</td>\n",
       "      <td>24</td>\n",
       "    </tr>\n",
       "    <tr>\n",
       "      <th>...</th>\n",
       "      <td>...</td>\n",
       "      <td>...</td>\n",
       "      <td>...</td>\n",
       "      <td>...</td>\n",
       "      <td>...</td>\n",
       "      <td>...</td>\n",
       "      <td>...</td>\n",
       "      <td>...</td>\n",
       "      <td>...</td>\n",
       "      <td>...</td>\n",
       "      <td>...</td>\n",
       "      <td>...</td>\n",
       "    </tr>\n",
       "    <tr>\n",
       "      <th>11451</th>\n",
       "      <td>11452</td>\n",
       "      <td>7968</td>\n",
       "      <td>2014-07-08 14:50:00</td>\n",
       "      <td>0</td>\n",
       "      <td>2</td>\n",
       "      <td>19</td>\n",
       "      <td>775</td>\n",
       "      <td>6</td>\n",
       "      <td>1</td>\n",
       "      <td>2014</td>\n",
       "      <td>7</td>\n",
       "      <td>8</td>\n",
       "    </tr>\n",
       "    <tr>\n",
       "      <th>11452</th>\n",
       "      <td>11453</td>\n",
       "      <td>7968</td>\n",
       "      <td>2014-10-21 12:57:00</td>\n",
       "      <td>0</td>\n",
       "      <td>0</td>\n",
       "      <td>20</td>\n",
       "      <td>775</td>\n",
       "      <td>46</td>\n",
       "      <td>1</td>\n",
       "      <td>2014</td>\n",
       "      <td>10</td>\n",
       "      <td>21</td>\n",
       "    </tr>\n",
       "    <tr>\n",
       "      <th>11453</th>\n",
       "      <td>11454</td>\n",
       "      <td>7968</td>\n",
       "      <td>2014-09-29 09:00:00</td>\n",
       "      <td>0</td>\n",
       "      <td>0</td>\n",
       "      <td>5</td>\n",
       "      <td>775</td>\n",
       "      <td>156</td>\n",
       "      <td>1</td>\n",
       "      <td>2014</td>\n",
       "      <td>9</td>\n",
       "      <td>29</td>\n",
       "    </tr>\n",
       "    <tr>\n",
       "      <th>11454</th>\n",
       "      <td>11455</td>\n",
       "      <td>5964</td>\n",
       "      <td>2015-09-05 17:16:00</td>\n",
       "      <td>1</td>\n",
       "      <td>2</td>\n",
       "      <td>38</td>\n",
       "      <td>841</td>\n",
       "      <td>40</td>\n",
       "      <td>1</td>\n",
       "      <td>2015</td>\n",
       "      <td>9</td>\n",
       "      <td>5</td>\n",
       "    </tr>\n",
       "    <tr>\n",
       "      <th>11455</th>\n",
       "      <td>11456</td>\n",
       "      <td>2876</td>\n",
       "      <td>2014-07-12 18:40:00</td>\n",
       "      <td>1</td>\n",
       "      <td>1</td>\n",
       "      <td>31</td>\n",
       "      <td>1022</td>\n",
       "      <td>183</td>\n",
       "      <td>0</td>\n",
       "      <td>2014</td>\n",
       "      <td>7</td>\n",
       "      <td>12</td>\n",
       "    </tr>\n",
       "  </tbody>\n",
       "</table>\n",
       "<p>11456 rows × 12 columns</p>\n",
       "</div>"
      ],
      "text/plain": [
       "          ID  Name             DateTime  AnimalType  SexuponOutcome  \\\n",
       "0          1  6995  2015-10-12 12:15:00           1               0   \n",
       "1          2  1368  2014-07-26 17:59:00           1               3   \n",
       "2          3  2871  2016-01-13 12:20:00           0               2   \n",
       "3          4  5728  2013-12-28 18:12:00           1               1   \n",
       "4          5  6679  2015-09-24 17:59:00           1               2   \n",
       "...      ...   ...                  ...         ...             ...   \n",
       "11451  11452  7968  2014-07-08 14:50:00           0               2   \n",
       "11452  11453  7968  2014-10-21 12:57:00           0               0   \n",
       "11453  11454  7968  2014-09-29 09:00:00           0               0   \n",
       "11454  11455  5964  2015-09-05 17:16:00           1               2   \n",
       "11455  11456  2876  2014-07-12 18:40:00           1               1   \n",
       "\n",
       "       AgeuponOutcome  Breed  Color  is_mix  year  month  day  \n",
       "0                   6   1023    283       1  2015     10   12  \n",
       "1                  21    875     40       0  2014      7   26  \n",
       "2                   5    775    117       1  2016      1   13  \n",
       "3                  29    658    346       1  2013     12   28  \n",
       "4                  21   1165    359       1  2015      9   24  \n",
       "...               ...    ...    ...     ...   ...    ...  ...  \n",
       "11451              19    775      6       1  2014      7    8  \n",
       "11452              20    775     46       1  2014     10   21  \n",
       "11453               5    775    156       1  2014      9   29  \n",
       "11454              38    841     40       1  2015      9    5  \n",
       "11455              31   1022    183       0  2014      7   12  \n",
       "\n",
       "[11456 rows x 12 columns]"
      ]
     },
     "execution_count": 18,
     "metadata": {},
     "output_type": "execute_result"
    }
   ],
   "source": [
    "testing_data = pd.read_csv('/kaggle/input/shelter-animal-outcomes/test.csv.gz')\n",
    "testing_data.AgeuponOutcome = age_upon_outcome_encoder.transform(testing_data.AgeuponOutcome)\n",
    "testing_data.Color = color_encoder.transform(testing_data.Color)\n",
    "testing_data['is_mix'] = testing_data.Breed.apply(lambda x: 1 if 'Mix' in x else 0)\n",
    "testing_data.Breed = breed_encoder.transform(testing_data.Breed)\n",
    "testing_data.AnimalType = animal_type_encoder.transform(testing_data.AnimalType)\n",
    "testing_data.SexuponOutcome = sex_upon_outcome_encoder.transform(testing_data.SexuponOutcome)\n",
    "testing_data.Name = name_encoder.transform(testing_data.Name)\n",
    "testing_data['year'] = testing_data.DateTime.apply(lambda x: datetime.datetime.strptime(x, \"%Y-%m-%d %H:%M:%S\").year)\n",
    "testing_data['month'] = testing_data.DateTime.apply(lambda x: datetime.datetime.strptime(x, \"%Y-%m-%d %H:%M:%S\").month)\n",
    "testing_data['day'] = testing_data.DateTime.apply(lambda x: datetime.datetime.strptime(x, \"%Y-%m-%d %H:%M:%S\").day)\n",
    "\n",
    "testing_data"
   ]
  },
  {
   "cell_type": "code",
   "execution_count": 19,
   "id": "f3e7dfd0",
   "metadata": {
    "execution": {
     "iopub.execute_input": "2023-09-01T18:06:09.559000Z",
     "iopub.status.busy": "2023-09-01T18:06:09.558605Z",
     "iopub.status.idle": "2023-09-01T18:06:13.823688Z",
     "shell.execute_reply": "2023-09-01T18:06:13.822168Z"
    },
    "papermill": {
     "duration": 4.279489,
     "end_time": "2023-09-01T18:06:13.826123",
     "exception": false,
     "start_time": "2023-09-01T18:06:09.546634",
     "status": "completed"
    },
    "tags": []
   },
   "outputs": [
    {
     "data": {
      "text/html": [
       "<div>\n",
       "<style scoped>\n",
       "    .dataframe tbody tr th:only-of-type {\n",
       "        vertical-align: middle;\n",
       "    }\n",
       "\n",
       "    .dataframe tbody tr th {\n",
       "        vertical-align: top;\n",
       "    }\n",
       "\n",
       "    .dataframe thead th {\n",
       "        text-align: right;\n",
       "    }\n",
       "</style>\n",
       "<table border=\"1\" class=\"dataframe\">\n",
       "  <thead>\n",
       "    <tr style=\"text-align: right;\">\n",
       "      <th></th>\n",
       "      <th>ID</th>\n",
       "      <th>Adoption</th>\n",
       "      <th>Died</th>\n",
       "      <th>Euthanasia</th>\n",
       "      <th>Return_to_owner</th>\n",
       "      <th>Transfer</th>\n",
       "    </tr>\n",
       "  </thead>\n",
       "  <tbody>\n",
       "    <tr>\n",
       "      <th>0</th>\n",
       "      <td>1</td>\n",
       "      <td>0.068928</td>\n",
       "      <td>0.005728</td>\n",
       "      <td>0.032291</td>\n",
       "      <td>0.323091</td>\n",
       "      <td>0.569962</td>\n",
       "    </tr>\n",
       "    <tr>\n",
       "      <th>1</th>\n",
       "      <td>2</td>\n",
       "      <td>0.542297</td>\n",
       "      <td>0.001025</td>\n",
       "      <td>0.023842</td>\n",
       "      <td>0.293583</td>\n",
       "      <td>0.139254</td>\n",
       "    </tr>\n",
       "    <tr>\n",
       "      <th>2</th>\n",
       "      <td>3</td>\n",
       "      <td>0.598291</td>\n",
       "      <td>0.003399</td>\n",
       "      <td>0.016394</td>\n",
       "      <td>0.091643</td>\n",
       "      <td>0.290273</td>\n",
       "    </tr>\n",
       "    <tr>\n",
       "      <th>3</th>\n",
       "      <td>4</td>\n",
       "      <td>0.094115</td>\n",
       "      <td>0.007260</td>\n",
       "      <td>0.071078</td>\n",
       "      <td>0.318637</td>\n",
       "      <td>0.508910</td>\n",
       "    </tr>\n",
       "    <tr>\n",
       "      <th>4</th>\n",
       "      <td>5</td>\n",
       "      <td>0.465852</td>\n",
       "      <td>0.001134</td>\n",
       "      <td>0.020523</td>\n",
       "      <td>0.344624</td>\n",
       "      <td>0.167868</td>\n",
       "    </tr>\n",
       "    <tr>\n",
       "      <th>...</th>\n",
       "      <td>...</td>\n",
       "      <td>...</td>\n",
       "      <td>...</td>\n",
       "      <td>...</td>\n",
       "      <td>...</td>\n",
       "      <td>...</td>\n",
       "    </tr>\n",
       "    <tr>\n",
       "      <th>11451</th>\n",
       "      <td>11452</td>\n",
       "      <td>0.837141</td>\n",
       "      <td>0.003156</td>\n",
       "      <td>0.017715</td>\n",
       "      <td>0.012371</td>\n",
       "      <td>0.129616</td>\n",
       "    </tr>\n",
       "    <tr>\n",
       "      <th>11452</th>\n",
       "      <td>11453</td>\n",
       "      <td>0.004167</td>\n",
       "      <td>0.014805</td>\n",
       "      <td>0.042421</td>\n",
       "      <td>0.012309</td>\n",
       "      <td>0.926298</td>\n",
       "    </tr>\n",
       "    <tr>\n",
       "      <th>11453</th>\n",
       "      <td>11454</td>\n",
       "      <td>0.008563</td>\n",
       "      <td>0.013868</td>\n",
       "      <td>0.117938</td>\n",
       "      <td>0.010053</td>\n",
       "      <td>0.849577</td>\n",
       "    </tr>\n",
       "    <tr>\n",
       "      <th>11454</th>\n",
       "      <td>11455</td>\n",
       "      <td>0.378625</td>\n",
       "      <td>0.001469</td>\n",
       "      <td>0.024585</td>\n",
       "      <td>0.442339</td>\n",
       "      <td>0.152982</td>\n",
       "    </tr>\n",
       "    <tr>\n",
       "      <th>11455</th>\n",
       "      <td>11456</td>\n",
       "      <td>0.052274</td>\n",
       "      <td>0.007131</td>\n",
       "      <td>0.084548</td>\n",
       "      <td>0.410470</td>\n",
       "      <td>0.445578</td>\n",
       "    </tr>\n",
       "  </tbody>\n",
       "</table>\n",
       "<p>11456 rows × 6 columns</p>\n",
       "</div>"
      ],
      "text/plain": [
       "          ID  Adoption      Died  Euthanasia  Return_to_owner  Transfer\n",
       "0          1  0.068928  0.005728    0.032291         0.323091  0.569962\n",
       "1          2  0.542297  0.001025    0.023842         0.293583  0.139254\n",
       "2          3  0.598291  0.003399    0.016394         0.091643  0.290273\n",
       "3          4  0.094115  0.007260    0.071078         0.318637  0.508910\n",
       "4          5  0.465852  0.001134    0.020523         0.344624  0.167868\n",
       "...      ...       ...       ...         ...              ...       ...\n",
       "11451  11452  0.837141  0.003156    0.017715         0.012371  0.129616\n",
       "11452  11453  0.004167  0.014805    0.042421         0.012309  0.926298\n",
       "11453  11454  0.008563  0.013868    0.117938         0.010053  0.849577\n",
       "11454  11455  0.378625  0.001469    0.024585         0.442339  0.152982\n",
       "11455  11456  0.052274  0.007131    0.084548         0.410470  0.445578\n",
       "\n",
       "[11456 rows x 6 columns]"
      ]
     },
     "execution_count": 19,
     "metadata": {},
     "output_type": "execute_result"
    }
   ],
   "source": [
    "test_X = testing_data.drop(['ID', 'DateTime'], axis=1)\n",
    "test_y_hat = clf.predict_proba(test_X)\n",
    "M = []\n",
    "id = 1\n",
    "for i in range(len(test_y_hat)):\n",
    "    elt = {'ID': id}\n",
    "    id += 1\n",
    "    for j in range(5):\n",
    "        key = outcome_type_encoder.inverse_transform([j])[0]\n",
    "        elt[key] = test_y_hat[i][j]\n",
    "    M.append(elt)\n",
    "submission = pd.DataFrame(M)\n",
    "submission"
   ]
  },
  {
   "cell_type": "code",
   "execution_count": 20,
   "id": "57dc5af5",
   "metadata": {
    "execution": {
     "iopub.execute_input": "2023-09-01T18:06:13.847946Z",
     "iopub.status.busy": "2023-09-01T18:06:13.847521Z",
     "iopub.status.idle": "2023-09-01T18:06:13.924733Z",
     "shell.execute_reply": "2023-09-01T18:06:13.923212Z"
    },
    "papermill": {
     "duration": 0.090683,
     "end_time": "2023-09-01T18:06:13.927195",
     "exception": false,
     "start_time": "2023-09-01T18:06:13.836512",
     "status": "completed"
    },
    "tags": []
   },
   "outputs": [],
   "source": [
    "submission.to_csv(\"submission.csv\", index=False)"
   ]
  }
 ],
 "kernelspec": {
  "display_name": "Python 3",
  "language": "python",
  "name": "python3"
 },
 "language_info": {
  "codemirror_mode": {
   "name": "ipython",
   "version": 3
  },
  "file_extension": ".py",
  "mimetype": "text/x-python",
  "name": "python",
  "nbconvert_exporter": "python",
  "pygments_lexer": "ipython3",
  "version": "3.6.4"
 },
 "metadata": {
  "kernelspec": {
   "display_name": "Python 3",
   "language": "python",
   "name": "python3"
  },
  "language_info": {
   "codemirror_mode": {
    "name": "ipython",
    "version": 3
   },
   "file_extension": ".py",
   "mimetype": "text/x-python",
   "name": "python",
   "nbconvert_exporter": "python",
   "pygments_lexer": "ipython3",
   "version": "3.10.12"
  },
  "papermill": {
   "default_parameters": {},
   "duration": 113.953593,
   "end_time": "2023-09-01T18:06:14.859408",
   "environment_variables": {},
   "exception": null,
   "input_path": "__notebook__.ipynb",
   "output_path": "__notebook__.ipynb",
   "parameters": {},
   "start_time": "2023-09-01T18:04:20.905815",
   "version": "2.4.0"
  }
 },
 "nbformat": 4,
 "nbformat_minor": 5
}
